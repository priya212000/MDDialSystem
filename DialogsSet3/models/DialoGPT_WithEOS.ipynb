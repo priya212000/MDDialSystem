{
  "nbformat": 4,
  "nbformat_minor": 0,
  "metadata": {
    "colab": {
      "provenance": []
    },
    "kernelspec": {
      "name": "python3",
      "display_name": "Python 3"
    },
    "language_info": {
      "name": "python"
    },
    "accelerator": "GPU",
    "gpuClass": "standard"
  },
  "cells": [
    {
      "cell_type": "code",
      "execution_count": 1,
      "metadata": {
        "colab": {
          "base_uri": "https://localhost:8080/"
        },
        "id": "1NjNKdLR3Pwj",
        "outputId": "d7f8c829-293a-4542-a567-66fcf0026336"
      },
      "outputs": [
        {
          "output_type": "stream",
          "name": "stdout",
          "text": [
            "There are 1 GPU(s) available.\n",
            "We will use the GPU: Tesla T4\n"
          ]
        }
      ],
      "source": [
        "import torch\n",
        "\n",
        "# If there's a GPU available...\n",
        "if torch.cuda.is_available():    \n",
        "\n",
        "    # Tell PyTorch to use the GPU.    \n",
        "    device = torch.device(\"cuda\")\n",
        "\n",
        "    print('There are %d GPU(s) available.' % torch.cuda.device_count())\n",
        "\n",
        "    print('We will use the GPU:', torch.cuda.get_device_name(0))\n",
        "\n",
        "# If not...\n",
        "else:\n",
        "    print('No GPU available, using the CPU instead.')\n",
        "    device = torch.device(\"cpu\")"
      ]
    },
    {
      "cell_type": "code",
      "source": [
        "from google.colab import drive\n",
        "drive.mount('/content/drive')"
      ],
      "metadata": {
        "colab": {
          "base_uri": "https://localhost:8080/"
        },
        "id": "nh9QLNWu3YSO",
        "outputId": "c2293588-3bd6-43d3-e19e-5a46746be27b"
      },
      "execution_count": 2,
      "outputs": [
        {
          "output_type": "stream",
          "name": "stdout",
          "text": [
            "Mounted at /content/drive\n"
          ]
        }
      ]
    },
    {
      "cell_type": "code",
      "source": [
        "data_dir = '/content/drive/MyDrive/CSE 576/Project_DialogSystems'"
      ],
      "metadata": {
        "id": "bL6gfBEF3Z1M"
      },
      "execution_count": 3,
      "outputs": []
    },
    {
      "cell_type": "code",
      "source": [
        "import pickle\n",
        "handle = open(f\"{data_dir}/train_conversations.pickle\", \"rb\")\n",
        "conversations = pickle.load(handle)\n",
        "handle.close()"
      ],
      "metadata": {
        "id": "Ey78VPlBOgvu"
      },
      "execution_count": null,
      "outputs": []
    },
    {
      "cell_type": "code",
      "source": [
        "len(conversations)"
      ],
      "metadata": {
        "colab": {
          "base_uri": "https://localhost:8080/"
        },
        "id": "7izA362-CO76",
        "outputId": "dc9f8436-1943-4b84-e0df-633a2ba0bb82"
      },
      "execution_count": null,
      "outputs": [
        {
          "output_type": "execute_result",
          "data": {
            "text/plain": [
              "9199"
            ]
          },
          "metadata": {},
          "execution_count": 9
        }
      ]
    },
    {
      "cell_type": "code",
      "source": [
        "!pip install transformers"
      ],
      "metadata": {
        "colab": {
          "base_uri": "https://localhost:8080/"
        },
        "id": "_3lWCxSm3baY",
        "outputId": "e362d249-3173-46e7-85d5-5eff880d01a2"
      },
      "execution_count": 4,
      "outputs": [
        {
          "output_type": "stream",
          "name": "stdout",
          "text": [
            "Looking in indexes: https://pypi.org/simple, https://us-python.pkg.dev/colab-wheels/public/simple/\n",
            "Collecting transformers\n",
            "  Downloading transformers-4.25.1-py3-none-any.whl (5.8 MB)\n",
            "\u001b[K     |████████████████████████████████| 5.8 MB 5.3 MB/s \n",
            "\u001b[?25hRequirement already satisfied: tqdm>=4.27 in /usr/local/lib/python3.8/dist-packages (from transformers) (4.64.1)\n",
            "Requirement already satisfied: numpy>=1.17 in /usr/local/lib/python3.8/dist-packages (from transformers) (1.21.6)\n",
            "Requirement already satisfied: requests in /usr/local/lib/python3.8/dist-packages (from transformers) (2.23.0)\n",
            "Requirement already satisfied: pyyaml>=5.1 in /usr/local/lib/python3.8/dist-packages (from transformers) (6.0)\n",
            "Collecting huggingface-hub<1.0,>=0.10.0\n",
            "  Downloading huggingface_hub-0.11.1-py3-none-any.whl (182 kB)\n",
            "\u001b[K     |████████████████████████████████| 182 kB 68.3 MB/s \n",
            "\u001b[?25hRequirement already satisfied: regex!=2019.12.17 in /usr/local/lib/python3.8/dist-packages (from transformers) (2022.6.2)\n",
            "Requirement already satisfied: packaging>=20.0 in /usr/local/lib/python3.8/dist-packages (from transformers) (21.3)\n",
            "Collecting tokenizers!=0.11.3,<0.14,>=0.11.1\n",
            "  Downloading tokenizers-0.13.2-cp38-cp38-manylinux_2_17_x86_64.manylinux2014_x86_64.whl (7.6 MB)\n",
            "\u001b[K     |████████████████████████████████| 7.6 MB 57.4 MB/s \n",
            "\u001b[?25hRequirement already satisfied: filelock in /usr/local/lib/python3.8/dist-packages (from transformers) (3.8.0)\n",
            "Requirement already satisfied: typing-extensions>=3.7.4.3 in /usr/local/lib/python3.8/dist-packages (from huggingface-hub<1.0,>=0.10.0->transformers) (4.1.1)\n",
            "Requirement already satisfied: pyparsing!=3.0.5,>=2.0.2 in /usr/local/lib/python3.8/dist-packages (from packaging>=20.0->transformers) (3.0.9)\n",
            "Requirement already satisfied: urllib3!=1.25.0,!=1.25.1,<1.26,>=1.21.1 in /usr/local/lib/python3.8/dist-packages (from requests->transformers) (1.24.3)\n",
            "Requirement already satisfied: certifi>=2017.4.17 in /usr/local/lib/python3.8/dist-packages (from requests->transformers) (2022.9.24)\n",
            "Requirement already satisfied: chardet<4,>=3.0.2 in /usr/local/lib/python3.8/dist-packages (from requests->transformers) (3.0.4)\n",
            "Requirement already satisfied: idna<3,>=2.5 in /usr/local/lib/python3.8/dist-packages (from requests->transformers) (2.10)\n",
            "Installing collected packages: tokenizers, huggingface-hub, transformers\n",
            "Successfully installed huggingface-hub-0.11.1 tokenizers-0.13.2 transformers-4.25.1\n"
          ]
        }
      ]
    },
    {
      "cell_type": "code",
      "source": [
        "import torch\n",
        "import pickle\n",
        "from torch.utils.data import Dataset\n",
        "\n",
        "class MDDialDataset(Dataset):\n",
        "  def __init__(self, save_path, conversations=None, tokenizer=None, use_saved=False, max_length=300):\n",
        "    self.input_ids = []\n",
        "    self.attention_masks = []\n",
        "    self.inputs = conversations\n",
        "\n",
        "    if use_saved:\n",
        "      handle = open(f\"{save_path}/input_ids.pickle\", \"rb\")\n",
        "      self.input_ids = pickle.load(handle)\n",
        "      handle.close()\n",
        "      handle = open(f\"{save_path}/attention_masks.pickle\", \"rb\")\n",
        "      self.attention_masks = pickle.load(handle)\n",
        "      handle.close()\n",
        "    else:\n",
        "      for index in range(len(self.inputs)):\n",
        "        conversation = self.inputs[index]\n",
        "        if conversation[1] == 1:\n",
        "          chat = conversation[0]\n",
        "          complete = [tokenizer.encode(x) + [tokenizer.eos_token_id] for x in chat]\n",
        "          complete = [item for tokens in complete for item in tokens]\n",
        "          if len(complete) < max_length:\n",
        "            for _ in range(len(complete), max_length):\n",
        "              complete.append(tokenizer.pad_token_id)\n",
        "          attention = [0 for _ in range(len(complete))]\n",
        "          attention_len = 0\n",
        "          for turn in chat:\n",
        "            tokens = tokenizer.encode(turn) + [tokenizer.eos_token_id]\n",
        "            self.input_ids.append(torch.tensor(complete))\n",
        "            attention = attention[:attention_len] + [1 for _ in range(len(tokens))] + attention[attention_len + len(tokens):]\n",
        "            attention_len += len(tokens)\n",
        "            self.attention_masks.append(torch.tensor(attention))\n",
        "      # handle = open(f\"{save_path}/input_ids.pickle\", \"wb\")\n",
        "      handle = open(f\"{save_path}/gpt3_input_ids.pickle\", \"wb\")\n",
        "      pickle.dump(self.input_ids, handle)\n",
        "      handle.close()\n",
        "      # handle = open(f\"{save_path}/attention_masks.pickle\", \"wb\")\n",
        "      handle = open(f\"{save_path}/gpt3_attention_masks.pickle\", \"wb\")\n",
        "      pickle.dump(self.attention_masks, handle)\n",
        "      handle.close()\n",
        "\n",
        "  def __len__(self):\n",
        "    return len(self.input_ids)\n",
        "\n",
        "  def __getitem__(self, idx):\n",
        "    return self.input_ids[idx], self.attention_masks[idx]"
      ],
      "metadata": {
        "id": "0IQ0-V4Z3dHA"
      },
      "execution_count": null,
      "outputs": []
    },
    {
      "cell_type": "code",
      "source": [
        "from transformers import AutoModelForCausalLM, AutoTokenizer\n",
        "\n",
        "model_name = \"microsoft/DialoGPT-small\"\n",
        "special_tokens_dict = {'pad_token': '[PAD]', 'eos_token': '[END]'}\n",
        "tokenizer = AutoTokenizer.from_pretrained(model_name)\n",
        "tokenizer.add_special_tokens(special_tokens_dict)\n",
        "model = AutoModelForCausalLM.from_pretrained(f\"{data_dir}/results_dialo_gpt_with_eos/checkpoint-trained-gpt3-dialogs\").cuda()\n",
        "model.resize_token_embeddings(len(tokenizer))"
      ],
      "metadata": {
        "colab": {
          "base_uri": "https://localhost:8080/"
        },
        "id": "rVAvGShq8mt5",
        "outputId": "6d773169-c0be-40ae-b079-cefecf75c920"
      },
      "execution_count": 9,
      "outputs": [
        {
          "output_type": "execute_result",
          "data": {
            "text/plain": [
              "Embedding(50259, 768)"
            ]
          },
          "metadata": {},
          "execution_count": 9
        }
      ]
    },
    {
      "cell_type": "code",
      "source": [
        "import torch\n",
        "from torch.utils.data import random_split\n",
        "torch.manual_seed(49)\n",
        "\n",
        "dataset = MDDialDataset(data_dir, conversations=conversations, tokenizer=tokenizer)\n",
        "#dataset = MDDialDataset(data_dir, use_saved=True)\n",
        "train_size = int(0.9 * len(dataset))\n",
        "train_dataset, eval_dataset = random_split(dataset, [train_size, len(dataset) - train_size])"
      ],
      "metadata": {
        "colab": {
          "base_uri": "https://localhost:8080/",
          "height": 240
        },
        "id": "Y0RXHe6WNHG9",
        "outputId": "1573723f-6392-4e31-b10e-00348b39b6bf"
      },
      "execution_count": null,
      "outputs": [
        {
          "output_type": "error",
          "ename": "NameError",
          "evalue": "ignored",
          "traceback": [
            "\u001b[0;31m---------------------------------------------------------------------------\u001b[0m",
            "\u001b[0;31mNameError\u001b[0m                                 Traceback (most recent call last)",
            "\u001b[0;32m<ipython-input-7-f460199e2489>\u001b[0m in \u001b[0;36m<module>\u001b[0;34m\u001b[0m\n\u001b[1;32m      3\u001b[0m \u001b[0mtorch\u001b[0m\u001b[0;34m.\u001b[0m\u001b[0mmanual_seed\u001b[0m\u001b[0;34m(\u001b[0m\u001b[0;36m49\u001b[0m\u001b[0;34m)\u001b[0m\u001b[0;34m\u001b[0m\u001b[0;34m\u001b[0m\u001b[0m\n\u001b[1;32m      4\u001b[0m \u001b[0;34m\u001b[0m\u001b[0m\n\u001b[0;32m----> 5\u001b[0;31m \u001b[0mdataset\u001b[0m \u001b[0;34m=\u001b[0m \u001b[0mMDDialDataset\u001b[0m\u001b[0;34m(\u001b[0m\u001b[0mdata_dir\u001b[0m\u001b[0;34m,\u001b[0m \u001b[0mconversations\u001b[0m\u001b[0;34m=\u001b[0m\u001b[0mconversations\u001b[0m\u001b[0;34m,\u001b[0m \u001b[0mtokenizer\u001b[0m\u001b[0;34m=\u001b[0m\u001b[0mtokenizer\u001b[0m\u001b[0;34m)\u001b[0m\u001b[0;34m\u001b[0m\u001b[0;34m\u001b[0m\u001b[0m\n\u001b[0m\u001b[1;32m      6\u001b[0m \u001b[0;31m#dataset = MDDialDataset(data_dir, use_saved=True)\u001b[0m\u001b[0;34m\u001b[0m\u001b[0;34m\u001b[0m\u001b[0;34m\u001b[0m\u001b[0m\n\u001b[1;32m      7\u001b[0m \u001b[0mtrain_size\u001b[0m \u001b[0;34m=\u001b[0m \u001b[0mint\u001b[0m\u001b[0;34m(\u001b[0m\u001b[0;36m0.9\u001b[0m \u001b[0;34m*\u001b[0m \u001b[0mlen\u001b[0m\u001b[0;34m(\u001b[0m\u001b[0mdataset\u001b[0m\u001b[0;34m)\u001b[0m\u001b[0;34m)\u001b[0m\u001b[0;34m\u001b[0m\u001b[0;34m\u001b[0m\u001b[0m\n",
            "\u001b[0;31mNameError\u001b[0m: name 'MDDialDataset' is not defined"
          ]
        }
      ]
    },
    {
      "cell_type": "code",
      "source": [
        "#tokenizer.decode(train_dataset[0][0][:123])\n",
        "tokenizer.decode(train_dataset[0][0])"
      ],
      "metadata": {
        "colab": {
          "base_uri": "https://localhost:8080/",
          "height": 89
        },
        "id": "spJt0aH1U4aS",
        "outputId": "764338d3-9e7f-4812-c2de-67c3825177ec"
      },
      "execution_count": null,
      "outputs": [
        {
          "output_type": "execute_result",
          "data": {
            "text/plain": [
              "\"Recently, I am experiencing Lumbago and Fever[END]Is it? Then do you experience Twitch?[END]Not that I know of[END]In that case, do you have any Rash?[END]What about Suppuration?[END]No, I never had anything like that[END]Is it? Then do you experience Cough?[END]Oh, do you have any Fear of cold?[END]Yes, sometimes[END]I see. Do you have a family history of Asthma?[END]No, I don't think so[END]Is it? Then do you experience Chills?[END]Yes, sometimes[END]Oh, do you have any Cyanosis?[END]What is that?[END]It's a medical condition where your skin turns blue from lack of oxygen in the blood.[END]No, I don't think so[END]Well, based on the symptoms you're experiencing, it's possible that you have Pneumonia.[END][PAD][PAD][PAD][PAD][PAD][PAD][PAD][PAD][PAD][PAD][PAD][PAD][PAD][PAD][PAD][PAD][PAD][PAD][PAD][PAD][PAD][PAD][PAD][PAD][PAD][PAD][PAD][PAD][PAD][PAD][PAD][PAD][PAD][PAD][PAD][PAD][PAD][PAD][PAD][PAD][PAD][PAD][PAD][PAD][PAD][PAD][PAD][PAD][PAD][PAD][PAD][PAD][PAD][PAD][PAD][PAD][PAD][PAD][PAD][PAD][PAD][PAD][PAD][PAD][PAD][PAD][PAD][PAD][PAD][PAD][PAD][PAD][PAD][PAD][PAD][PAD][PAD][PAD][PAD][PAD][PAD][PAD][PAD][PAD][PAD][PAD][PAD][PAD][PAD][PAD][PAD][PAD][PAD][PAD][PAD][PAD][PAD][PAD][PAD][PAD][PAD][PAD][PAD][PAD][PAD][PAD][PAD][PAD][PAD][PAD][PAD][PAD][PAD][PAD][PAD][PAD][PAD][PAD][PAD][PAD][PAD]\""
            ],
            "application/vnd.google.colaboratory.intrinsic+json": {
              "type": "string"
            }
          },
          "metadata": {},
          "execution_count": 9
        }
      ]
    },
    {
      "cell_type": "code",
      "source": [
        "# Clear unused memory\n",
        "import gc\n",
        "gc.collect()\n",
        "torch.cuda.empty_cache()"
      ],
      "metadata": {
        "id": "FvgboIjSNdyN"
      },
      "execution_count": null,
      "outputs": []
    },
    {
      "cell_type": "code",
      "source": [
        "train_size, len(dataset) - train_size"
      ],
      "metadata": {
        "colab": {
          "base_uri": "https://localhost:8080/"
        },
        "id": "33IKqFnVNf5Q",
        "outputId": "02491b9c-076f-41ab-c2a4-65fb7ffdc274"
      },
      "execution_count": null,
      "outputs": [
        {
          "output_type": "execute_result",
          "data": {
            "text/plain": [
              "(399, 45)"
            ]
          },
          "metadata": {},
          "execution_count": 11
        }
      ]
    },
    {
      "cell_type": "code",
      "source": [
        "from transformers import TrainingArguments, Trainer\n",
        "\n",
        "training_args = TrainingArguments(\n",
        "  output_dir=f'{data_dir}/results_dialo_gpt_with_eos',\n",
        "  num_train_epochs=10, \n",
        "  logging_steps=100, \n",
        "  save_steps=1000,\n",
        "  per_device_train_batch_size=4, \n",
        "  per_device_eval_batch_size=4,\n",
        "  warmup_steps=0,\n",
        "  weight_decay=0.05, \n",
        "  logging_dir='./logs', \n",
        "  report_to = 'none'\n",
        ")\n",
        "\n",
        "trainer = Trainer(\n",
        "    model=model,\n",
        "    tokenizer=tokenizer,\n",
        "    args=training_args,\n",
        "    train_dataset=train_dataset,\n",
        "    eval_dataset=eval_dataset,\n",
        "    data_collator=lambda data: {\n",
        "        'input_ids': torch.stack([f[0] for f in data]),\n",
        "        'attention_mask': torch.stack([f[1] for f in data]),\n",
        "        'labels': torch.stack([f[0] for f in data])\n",
        "    }\n",
        ")\n",
        "trainer.train()"
      ],
      "metadata": {
        "colab": {
          "base_uri": "https://localhost:8080/",
          "height": 746
        },
        "id": "-CWfuhb5Nii4",
        "outputId": "68906cf0-28a5-43a9-9f4e-7a6de580d903"
      },
      "execution_count": null,
      "outputs": [
        {
          "output_type": "stream",
          "name": "stderr",
          "text": [
            "PyTorch: setting up devices\n",
            "***** Running training *****\n",
            "  Num examples = 399\n",
            "  Num Epochs = 10\n",
            "  Instantaneous batch size per device = 4\n",
            "  Total train batch size (w. parallel, distributed & accumulation) = 4\n",
            "  Gradient Accumulation steps = 1\n",
            "  Total optimization steps = 1000\n",
            "  Number of trainable parameters = 124441344\n"
          ]
        },
        {
          "output_type": "display_data",
          "data": {
            "text/plain": [
              "<IPython.core.display.HTML object>"
            ],
            "text/html": [
              "\n",
              "    <div>\n",
              "      \n",
              "      <progress value='1000' max='1000' style='width:300px; height:20px; vertical-align: middle;'></progress>\n",
              "      [1000/1000 06:27, Epoch 10/10]\n",
              "    </div>\n",
              "    <table border=\"1\" class=\"dataframe\">\n",
              "  <thead>\n",
              " <tr style=\"text-align: left;\">\n",
              "      <th>Step</th>\n",
              "      <th>Training Loss</th>\n",
              "    </tr>\n",
              "  </thead>\n",
              "  <tbody>\n",
              "    <tr>\n",
              "      <td>100</td>\n",
              "      <td>0.062100</td>\n",
              "    </tr>\n",
              "    <tr>\n",
              "      <td>200</td>\n",
              "      <td>0.046800</td>\n",
              "    </tr>\n",
              "    <tr>\n",
              "      <td>300</td>\n",
              "      <td>0.037900</td>\n",
              "    </tr>\n",
              "    <tr>\n",
              "      <td>400</td>\n",
              "      <td>0.033300</td>\n",
              "    </tr>\n",
              "    <tr>\n",
              "      <td>500</td>\n",
              "      <td>0.031200</td>\n",
              "    </tr>\n",
              "    <tr>\n",
              "      <td>600</td>\n",
              "      <td>0.028700</td>\n",
              "    </tr>\n",
              "    <tr>\n",
              "      <td>700</td>\n",
              "      <td>0.027500</td>\n",
              "    </tr>\n",
              "    <tr>\n",
              "      <td>800</td>\n",
              "      <td>0.028300</td>\n",
              "    </tr>\n",
              "    <tr>\n",
              "      <td>900</td>\n",
              "      <td>0.028200</td>\n",
              "    </tr>\n",
              "    <tr>\n",
              "      <td>1000</td>\n",
              "      <td>0.029300</td>\n",
              "    </tr>\n",
              "  </tbody>\n",
              "</table><p>"
            ]
          },
          "metadata": {}
        },
        {
          "output_type": "stream",
          "name": "stderr",
          "text": [
            "Saving model checkpoint to /content/drive/MyDrive/CSE 576/Project_DialogSystems/results_dialo_gpt_with_eos/checkpoint-1000\n",
            "Configuration saved in /content/drive/MyDrive/CSE 576/Project_DialogSystems/results_dialo_gpt_with_eos/checkpoint-1000/config.json\n",
            "Model weights saved in /content/drive/MyDrive/CSE 576/Project_DialogSystems/results_dialo_gpt_with_eos/checkpoint-1000/pytorch_model.bin\n",
            "tokenizer config file saved in /content/drive/MyDrive/CSE 576/Project_DialogSystems/results_dialo_gpt_with_eos/checkpoint-1000/tokenizer_config.json\n",
            "Special tokens file saved in /content/drive/MyDrive/CSE 576/Project_DialogSystems/results_dialo_gpt_with_eos/checkpoint-1000/special_tokens_map.json\n",
            "\n",
            "\n",
            "Training completed. Do not forget to share your model on huggingface.co/models =)\n",
            "\n",
            "\n"
          ]
        },
        {
          "output_type": "execute_result",
          "data": {
            "text/plain": [
              "TrainOutput(global_step=1000, training_loss=0.03532235860824585, metrics={'train_runtime': 388.2904, 'train_samples_per_second': 10.276, 'train_steps_per_second': 2.575, 'total_flos': 610872192000000.0, 'train_loss': 0.03532235860824585, 'epoch': 10.0})"
            ]
          },
          "metadata": {},
          "execution_count": 13
        }
      ]
    },
    {
      "cell_type": "code",
      "source": [
        "disease_encodings = {}\n",
        "for disease in [\n",
        "    'Esophagitis', \n",
        "    'Enteritis', \n",
        "    'Asthma', \n",
        "    'Coronary heart disease', \n",
        "    'Pneumonia', \n",
        "    'Rhinitis', \n",
        "    'Thyroiditis', \n",
        "    'Traumatic brain injury',\n",
        "    'Dermatitis',\n",
        "    'External otitis',\n",
        "    'Conjunctivitis',\n",
        "    'Mastitis'\n",
        "]:\n",
        "  encoded = tokenizer.encode(disease)\n",
        "  disease_encodings[disease] = encoded"
      ],
      "metadata": {
        "id": "0IZXvRh9To9u"
      },
      "execution_count": null,
      "outputs": []
    },
    {
      "cell_type": "code",
      "source": [
        "from transformers import StoppingCriteria, StoppingCriteriaList\n",
        "\n",
        "class DiagnosisStoppingCriteria(StoppingCriteria):\n",
        "  def __init__(self, diseases, max_length):\n",
        "    self.diseases = diseases\n",
        "    self.max_length = max_length\n",
        "\n",
        "  def isSublist(self, a,b):\n",
        "    for i in range(len(b)-len(a)+1):\n",
        "        if b[i:i+len(a)] == a:\n",
        "            return True\n",
        "    return False\n",
        "\n",
        "  def __call__(self, input_ids: torch.LongTensor, scores: torch.FloatTensor, **kwargs):\n",
        "    if len(input_ids) > self.max_length:\n",
        "      return True\n",
        "    else:\n",
        "      for encoding in self.diseases.values():\n",
        "        if self.isSublist(encoding, input_ids):\n",
        "          return True"
      ],
      "metadata": {
        "id": "Icm2cXx0RYk3"
      },
      "execution_count": null,
      "outputs": []
    },
    {
      "cell_type": "code",
      "source": [
        "input_seq = tokenizer(\"Recently, I am experiencing Burning sensation behind the breastbone[END]\", return_tensors=\"pt\")"
      ],
      "metadata": {
        "id": "6Mo5npIYRKIA"
      },
      "execution_count": null,
      "outputs": []
    },
    {
      "cell_type": "code",
      "source": [
        "generated = model.generate(\n",
        "        input_seq['input_ids'].cuda(),\n",
        "        max_length=1000,\n",
        "        pad_token_id=tokenizer.eos_token_id,\n",
        "        top_p=0.92, top_k = 50,\n",
        "        stopping_criteria=StoppingCriteriaList([DiagnosisStoppingCriteria(disease_encodings, 1000)])\n",
        "    )"
      ],
      "metadata": {
        "colab": {
          "base_uri": "https://localhost:8080/"
        },
        "id": "vxlYihx3Sics",
        "outputId": "13133605-3fac-4262-dba3-c6a7c089a97e"
      },
      "execution_count": null,
      "outputs": [
        {
          "output_type": "stream",
          "name": "stderr",
          "text": [
            "A decoder-only architecture is being used, but right-padding was detected! For correct generation results, please set `padding_side='left'` when initializing the tokenizer.\n"
          ]
        }
      ]
    },
    {
      "cell_type": "code",
      "source": [
        "tokenizer.decode(generated[0])"
      ],
      "metadata": {
        "colab": {
          "base_uri": "https://localhost:8080/",
          "height": 89
        },
        "id": "RpIiRNPfivYO",
        "outputId": "1a6451ee-1956-4404-f0f3-2a10bf6a1cec"
      },
      "execution_count": null,
      "outputs": [
        {
          "output_type": "execute_result",
          "data": {
            "text/plain": [
              "'Recently, I am experiencing Burning sensation behind the breastbone[END]In that case, do you have any Nausea?[END]Well not in my knowledge[END]In that case, do you have any Vomiting?[END]Not that I know of[END]In that case, do you have any Bloating?[END]Well not in my knowledge[END]Oh, do you have any Stomach ache?[END]Yes, sometimes[END]In that case, you have Esophagitis.[END][PAD][PAD][PAD][PAD][PAD][PAD][PAD][PAD][PAD][PAD][PAD][PAD][PAD][PAD][PAD][PAD][PAD][PAD][PAD][PAD][PAD][PAD][PAD][PAD][PAD][PAD][PAD][PAD][PAD][PAD][PAD][PAD][PAD][PAD][PAD][PAD][PAD][PAD][PAD][PAD][PAD][PAD][PAD][PAD][PAD][PAD][PAD][PAD][PAD][PAD][PAD][PAD][PAD][PAD][PAD][PAD][PAD][PAD][PAD][PAD][PAD][PAD][PAD][PAD][PAD][PAD][PAD][PAD][PAD][PAD][PAD][PAD][PAD][PAD][PAD][PAD][PAD][PAD][PAD][PAD][PAD][PAD][PAD][PAD][PAD][PAD][PAD][PAD][PAD][PAD][PAD][PAD][PAD][PAD][PAD][PAD][PAD][PAD][PAD][PAD][PAD][PAD][PAD][PAD][PAD][PAD][PAD][PAD][PAD][PAD][PAD][PAD][PAD][PAD][PAD][PAD][PAD][PAD][PAD][PAD][PAD][PAD][PAD][PAD][PAD][PAD][PAD][PAD][PAD][PAD][PAD][PAD][PAD][PAD][PAD][PAD][PAD][PAD][PAD][PAD][PAD][PAD][PAD][PAD][PAD][PAD][PAD][PAD][PAD][PAD][PAD][PAD][PAD][PAD][PAD][PAD][PAD][PAD][PAD][PAD][PAD][PAD][PAD][PAD][PAD][PAD][PAD][PAD][PAD][PAD][PAD][PAD][PAD][PAD][PAD][PAD][PAD][PAD][PAD][PAD][PAD][PAD][PAD][PAD][PAD][PAD][PAD][PAD][PAD][PAD][PAD][PAD][PAD][PAD][PAD][PAD][PAD][PAD][PAD][PAD][PAD][PAD][PAD][PAD][PAD][PAD][PAD][PAD][PAD][PAD][PAD][PAD][PAD][PAD][PAD][PAD][PAD][PAD][PAD][PAD][PAD][PAD][PAD][PAD][PAD][PAD][PAD][PAD][PAD][PAD][PAD][PAD][PAD][PAD][PAD][PAD][PAD][PAD][PAD][PAD][PAD][PAD][PAD][PAD][PAD][PAD][PAD][PAD][PAD][PAD][PAD][PAD][PAD][PAD][PAD][PAD][PAD][PAD][PAD][PAD] cold? Then do you have any? Then do you have any? Then do you have any? Then do you have any? Then do you have any? Then do you have any? Then do you have any? Then do you have any? Then do you have any? Then do you have any discomfort? Then do you have any discomfort?[END]Oh, do you have any discomfort?[END]Oh, do you have any discomfort?[END]Oh, do you have any discomfort?[END]Oh, do you have any discomfort?[END]Oh, do you have any discomfort?[END]Oh, sometimes discomfort?[END]Oh, sometimes.[END]This?[END]This?[END]This?[END]This?[END]This?[END]This?[END]This?[END]This?[END]This?[END]This?[END]This?[END]This?[END]This?[END]This?[END]This?[END]This?[END]This?[END]This?[END]This?[END]This?[END]This?[END]This?[END]This?[END]This?[END]This?[END]This?[END]This?[END]This?[END]This?[END]This?[END]This?[END]This?[END]This?[END]This?[END]This?[END]This?[END]This?[END]This?[END]This?[END]This?[END]This?[END]This?[END]This?[END]This could probably be having Coronary heart disease.[END]This could probably be having Esophagitis.[END]This could probably be having Esophagitis.[END]This could probably be having Esophagitis.[END]This could probably be having Esophagitis.[END]This could probably be having Esophagitis.[END][PAD][PAD][PAD][PAD][PAD][PAD][PAD][PAD][PAD][PAD][PAD][PAD][PAD][PAD][PAD][PAD][PAD][PAD][PAD][PAD][PAD][PAD][PAD][PAD][PAD][PAD][PAD][PAD][PAD][PAD][PAD][PAD][PAD][PAD][PAD][PAD][PAD][PAD][PAD][PAD][PAD][PAD][PAD][PAD][PAD][PAD][PAD][PAD][PAD][PAD][PAD][PAD][PAD][PAD][PAD][PAD][PAD][PAD][PAD][PAD][PAD][PAD][PAD][PAD][PAD][PAD][PAD][PAD][PAD][PAD][PAD][PAD][PAD][PAD][PAD][PAD][PAD][PAD][PAD][PAD][PAD][PAD][PAD][PAD][PAD][PAD][PAD][PAD][PAD][PAD][PAD][PAD][PAD][PAD][PAD][PAD][PAD][PAD][PAD][PAD][PAD][PAD][PAD][PAD][PAD][PAD][PAD][PAD][PAD][PAD][PAD][PAD][PAD][PAD][PAD][PAD][PAD][PAD][PAD][PAD][PAD][PAD][PAD][PAD][PAD][PAD][PAD][PAD][PAD][PAD][PAD][PAD][PAD][PAD][PAD][PAD][PAD][PAD][PAD][PAD][PAD][PAD][PAD][PAD][PAD][PAD][PAD][PAD][PAD][PAD][PAD][PAD][PAD][PAD][PAD][PAD][PAD][PAD][PAD][PAD][PAD][PAD][PAD][PAD][PAD][PAD][PAD][PAD][PAD][PAD][PAD][PAD][PAD][PAD][PAD][PAD][PAD][PAD][PAD][PAD][PAD][PAD][PAD][PAD][PAD][PAD][PAD][PAD][PAD][PAD][PAD][PAD][PAD][PAD][PAD][PAD][PAD][PAD][PAD][PAD][PAD][PAD][PAD][PAD][PAD][PAD][PAD][PAD][PAD][PAD][PAD][PAD][PAD][PAD][PAD][PAD][PAD][PAD][PAD][PAD][PAD][PAD][PAD][PAD][PAD][PAD][PAD][PAD][PAD][PAD][PAD][PAD][PAD][PAD][PAD][PAD][PAD][PAD][PAD][PAD][PAD][PAD][PAD][PAD][PAD][PAD][PAD][PAD][PAD][PAD][PAD][PAD][PAD][PAD][PAD][PAD][PAD][PAD][PAD][PAD][PAD][PAD][PAD]This????????????????????????????????????????????????????????'"
            ],
            "application/vnd.google.colaboratory.intrinsic+json": {
              "type": "string"
            }
          },
          "metadata": {},
          "execution_count": 22
        }
      ]
    },
    {
      "cell_type": "code",
      "source": [
        "import json\n",
        "from tqdm import tqdm\n",
        "handle = open(f\"{data_dir}/test.json\")\n",
        "data = json.load(handle)\n",
        "positive = 0\n",
        "total = 0\n",
        "diseases = [\n",
        "    'Esophagitis', \n",
        "    'Enteritis', \n",
        "    'Asthma', \n",
        "    'Coronary heart disease', \n",
        "    'Pneumonia', \n",
        "    'Rhinitis', \n",
        "    'Thyroiditis', \n",
        "    'Traumatic brain injury',\n",
        "    'Dermatitis',\n",
        "    'External otitis',\n",
        "    'Conjunctivitis',\n",
        "    'Mastitis'\n",
        "]\n",
        "disease_counts={}\n",
        "for dialog in tqdm(data):\n",
        "  disease_gold = data[dialog]['disease_tag']\n",
        "  if disease_gold not in disease_counts:\n",
        "    disease_counts[disease_gold] = {\n",
        "        \"positive\": 0,\n",
        "        \"total\": 0\n",
        "    }\n",
        "  prompt = data[dialog]['dialogs'][0]['patient']\n",
        "  input_seq = tokenizer(f\"{prompt}[END]\", return_tensors=\"pt\")\n",
        "  generated = model.generate(\n",
        "        input_seq['input_ids'].cuda(), max_length=300,\n",
        "        pad_token_id=tokenizer.eos_token_id,\n",
        "        top_p=0.92, top_k = 50\n",
        "    )\n",
        "  decoded = tokenizer.decode(generated[0]).split(\"[END] [PAD]\")\n",
        "  for disease in diseases:\n",
        "    if disease in decoded[0] and disease == disease_gold:\n",
        "        disease_counts[disease_gold]['positive'] += 1\n",
        "        positive += 1\n",
        "  total += 1\n",
        "  disease_counts[disease_gold]['total'] += 1\n",
        "\n",
        "positive/total"
      ],
      "metadata": {
        "colab": {
          "base_uri": "https://localhost:8080/"
        },
        "id": "ibPwJes-ewvn",
        "outputId": "a1a24a95-a3c4-4f77-b039-2bb7bfad2ddc"
      },
      "execution_count": 13,
      "outputs": [
        {
          "output_type": "stream",
          "name": "stderr",
          "text": [
            "  0%|          | 0/235 [00:00<?, ?it/s]A decoder-only architecture is being used, but right-padding was detected! For correct generation results, please set `padding_side='left'` when initializing the tokenizer.\n",
            "  0%|          | 1/235 [00:02<11:17,  2.90s/it]A decoder-only architecture is being used, but right-padding was detected! For correct generation results, please set `padding_side='left'` when initializing the tokenizer.\n",
            "  1%|          | 2/235 [00:05<11:21,  2.92s/it]A decoder-only architecture is being used, but right-padding was detected! For correct generation results, please set `padding_side='left'` when initializing the tokenizer.\n",
            "  1%|▏         | 3/235 [00:08<11:13,  2.90s/it]A decoder-only architecture is being used, but right-padding was detected! For correct generation results, please set `padding_side='left'` when initializing the tokenizer.\n",
            "  2%|▏         | 4/235 [00:11<11:11,  2.91s/it]A decoder-only architecture is being used, but right-padding was detected! For correct generation results, please set `padding_side='left'` when initializing the tokenizer.\n",
            "  2%|▏         | 5/235 [00:14<11:34,  3.02s/it]A decoder-only architecture is being used, but right-padding was detected! For correct generation results, please set `padding_side='left'` when initializing the tokenizer.\n",
            "  3%|▎         | 6/235 [00:17<11:22,  2.98s/it]A decoder-only architecture is being used, but right-padding was detected! For correct generation results, please set `padding_side='left'` when initializing the tokenizer.\n",
            "  3%|▎         | 7/235 [00:20<11:10,  2.94s/it]A decoder-only architecture is being used, but right-padding was detected! For correct generation results, please set `padding_side='left'` when initializing the tokenizer.\n",
            "  3%|▎         | 8/235 [00:23<11:03,  2.92s/it]A decoder-only architecture is being used, but right-padding was detected! For correct generation results, please set `padding_side='left'` when initializing the tokenizer.\n",
            "  4%|▍         | 9/235 [00:26<11:01,  2.92s/it]A decoder-only architecture is being used, but right-padding was detected! For correct generation results, please set `padding_side='left'` when initializing the tokenizer.\n",
            "  4%|▍         | 10/235 [00:29<10:54,  2.91s/it]A decoder-only architecture is being used, but right-padding was detected! For correct generation results, please set `padding_side='left'` when initializing the tokenizer.\n",
            "  5%|▍         | 11/235 [00:32<10:52,  2.91s/it]A decoder-only architecture is being used, but right-padding was detected! For correct generation results, please set `padding_side='left'` when initializing the tokenizer.\n",
            "  5%|▌         | 12/235 [00:35<10:51,  2.92s/it]A decoder-only architecture is being used, but right-padding was detected! For correct generation results, please set `padding_side='left'` when initializing the tokenizer.\n",
            "  6%|▌         | 13/235 [00:38<10:49,  2.92s/it]A decoder-only architecture is being used, but right-padding was detected! For correct generation results, please set `padding_side='left'` when initializing the tokenizer.\n",
            "  6%|▌         | 14/235 [00:40<10:44,  2.92s/it]A decoder-only architecture is being used, but right-padding was detected! For correct generation results, please set `padding_side='left'` when initializing the tokenizer.\n",
            "  6%|▋         | 15/235 [00:43<10:36,  2.89s/it]A decoder-only architecture is being used, but right-padding was detected! For correct generation results, please set `padding_side='left'` when initializing the tokenizer.\n",
            "  7%|▋         | 16/235 [00:46<10:29,  2.87s/it]A decoder-only architecture is being used, but right-padding was detected! For correct generation results, please set `padding_side='left'` when initializing the tokenizer.\n",
            "  7%|▋         | 17/235 [00:49<10:23,  2.86s/it]A decoder-only architecture is being used, but right-padding was detected! For correct generation results, please set `padding_side='left'` when initializing the tokenizer.\n",
            "  8%|▊         | 18/235 [00:52<10:23,  2.87s/it]A decoder-only architecture is being used, but right-padding was detected! For correct generation results, please set `padding_side='left'` when initializing the tokenizer.\n",
            "  8%|▊         | 19/235 [00:55<10:21,  2.88s/it]A decoder-only architecture is being used, but right-padding was detected! For correct generation results, please set `padding_side='left'` when initializing the tokenizer.\n",
            "  9%|▊         | 20/235 [00:58<10:14,  2.86s/it]A decoder-only architecture is being used, but right-padding was detected! For correct generation results, please set `padding_side='left'` when initializing the tokenizer.\n",
            "  9%|▉         | 21/235 [01:00<10:05,  2.83s/it]A decoder-only architecture is being used, but right-padding was detected! For correct generation results, please set `padding_side='left'` when initializing the tokenizer.\n",
            "  9%|▉         | 22/235 [01:03<09:56,  2.80s/it]A decoder-only architecture is being used, but right-padding was detected! For correct generation results, please set `padding_side='left'` when initializing the tokenizer.\n",
            " 10%|▉         | 23/235 [01:06<09:51,  2.79s/it]A decoder-only architecture is being used, but right-padding was detected! For correct generation results, please set `padding_side='left'` when initializing the tokenizer.\n",
            " 10%|█         | 24/235 [01:09<09:53,  2.81s/it]A decoder-only architecture is being used, but right-padding was detected! For correct generation results, please set `padding_side='left'` when initializing the tokenizer.\n",
            " 11%|█         | 25/235 [01:12<09:51,  2.82s/it]A decoder-only architecture is being used, but right-padding was detected! For correct generation results, please set `padding_side='left'` when initializing the tokenizer.\n",
            " 11%|█         | 26/235 [01:14<09:49,  2.82s/it]A decoder-only architecture is being used, but right-padding was detected! For correct generation results, please set `padding_side='left'` when initializing the tokenizer.\n",
            " 11%|█▏        | 27/235 [01:17<09:43,  2.81s/it]A decoder-only architecture is being used, but right-padding was detected! For correct generation results, please set `padding_side='left'` when initializing the tokenizer.\n",
            " 12%|█▏        | 28/235 [01:20<09:38,  2.80s/it]A decoder-only architecture is being used, but right-padding was detected! For correct generation results, please set `padding_side='left'` when initializing the tokenizer.\n",
            " 12%|█▏        | 29/235 [01:23<09:41,  2.82s/it]A decoder-only architecture is being used, but right-padding was detected! For correct generation results, please set `padding_side='left'` when initializing the tokenizer.\n",
            " 13%|█▎        | 30/235 [01:26<09:36,  2.81s/it]A decoder-only architecture is being used, but right-padding was detected! For correct generation results, please set `padding_side='left'` when initializing the tokenizer.\n",
            " 13%|█▎        | 31/235 [01:28<09:35,  2.82s/it]A decoder-only architecture is being used, but right-padding was detected! For correct generation results, please set `padding_side='left'` when initializing the tokenizer.\n",
            " 14%|█▎        | 32/235 [01:31<09:33,  2.83s/it]A decoder-only architecture is being used, but right-padding was detected! For correct generation results, please set `padding_side='left'` when initializing the tokenizer.\n",
            " 14%|█▍        | 33/235 [01:34<09:34,  2.85s/it]A decoder-only architecture is being used, but right-padding was detected! For correct generation results, please set `padding_side='left'` when initializing the tokenizer.\n",
            " 14%|█▍        | 34/235 [01:37<09:29,  2.83s/it]A decoder-only architecture is being used, but right-padding was detected! For correct generation results, please set `padding_side='left'` when initializing the tokenizer.\n",
            " 15%|█▍        | 35/235 [01:40<09:23,  2.82s/it]A decoder-only architecture is being used, but right-padding was detected! For correct generation results, please set `padding_side='left'` when initializing the tokenizer.\n",
            " 15%|█▌        | 36/235 [01:43<09:24,  2.84s/it]A decoder-only architecture is being used, but right-padding was detected! For correct generation results, please set `padding_side='left'` when initializing the tokenizer.\n",
            " 16%|█▌        | 37/235 [01:45<09:19,  2.83s/it]A decoder-only architecture is being used, but right-padding was detected! For correct generation results, please set `padding_side='left'` when initializing the tokenizer.\n",
            " 16%|█▌        | 38/235 [01:48<09:14,  2.82s/it]A decoder-only architecture is being used, but right-padding was detected! For correct generation results, please set `padding_side='left'` when initializing the tokenizer.\n",
            " 17%|█▋        | 39/235 [01:51<09:13,  2.82s/it]A decoder-only architecture is being used, but right-padding was detected! For correct generation results, please set `padding_side='left'` when initializing the tokenizer.\n",
            " 17%|█▋        | 40/235 [01:54<09:15,  2.85s/it]A decoder-only architecture is being used, but right-padding was detected! For correct generation results, please set `padding_side='left'` when initializing the tokenizer.\n",
            " 17%|█▋        | 41/235 [01:57<09:16,  2.87s/it]A decoder-only architecture is being used, but right-padding was detected! For correct generation results, please set `padding_side='left'` when initializing the tokenizer.\n",
            " 18%|█▊        | 42/235 [02:00<09:16,  2.88s/it]A decoder-only architecture is being used, but right-padding was detected! For correct generation results, please set `padding_side='left'` when initializing the tokenizer.\n",
            " 18%|█▊        | 43/235 [02:03<09:17,  2.90s/it]A decoder-only architecture is being used, but right-padding was detected! For correct generation results, please set `padding_side='left'` when initializing the tokenizer.\n",
            " 19%|█▊        | 44/235 [02:06<09:14,  2.90s/it]A decoder-only architecture is being used, but right-padding was detected! For correct generation results, please set `padding_side='left'` when initializing the tokenizer.\n",
            " 19%|█▉        | 45/235 [02:09<09:07,  2.88s/it]A decoder-only architecture is being used, but right-padding was detected! For correct generation results, please set `padding_side='left'` when initializing the tokenizer.\n",
            " 20%|█▉        | 46/235 [02:11<09:02,  2.87s/it]A decoder-only architecture is being used, but right-padding was detected! For correct generation results, please set `padding_side='left'` when initializing the tokenizer.\n",
            " 20%|██        | 47/235 [02:14<09:01,  2.88s/it]A decoder-only architecture is being used, but right-padding was detected! For correct generation results, please set `padding_side='left'` when initializing the tokenizer.\n",
            " 20%|██        | 48/235 [02:17<08:54,  2.86s/it]A decoder-only architecture is being used, but right-padding was detected! For correct generation results, please set `padding_side='left'` when initializing the tokenizer.\n",
            " 21%|██        | 49/235 [02:20<08:46,  2.83s/it]A decoder-only architecture is being used, but right-padding was detected! For correct generation results, please set `padding_side='left'` when initializing the tokenizer.\n",
            " 21%|██▏       | 50/235 [02:23<08:44,  2.83s/it]A decoder-only architecture is being used, but right-padding was detected! For correct generation results, please set `padding_side='left'` when initializing the tokenizer.\n",
            " 22%|██▏       | 51/235 [02:26<08:43,  2.84s/it]A decoder-only architecture is being used, but right-padding was detected! For correct generation results, please set `padding_side='left'` when initializing the tokenizer.\n",
            " 22%|██▏       | 52/235 [02:28<08:40,  2.85s/it]A decoder-only architecture is being used, but right-padding was detected! For correct generation results, please set `padding_side='left'` when initializing the tokenizer.\n",
            " 23%|██▎       | 53/235 [02:31<08:38,  2.85s/it]A decoder-only architecture is being used, but right-padding was detected! For correct generation results, please set `padding_side='left'` when initializing the tokenizer.\n",
            " 23%|██▎       | 54/235 [02:34<08:32,  2.83s/it]A decoder-only architecture is being used, but right-padding was detected! For correct generation results, please set `padding_side='left'` when initializing the tokenizer.\n",
            " 23%|██▎       | 55/235 [02:37<08:29,  2.83s/it]A decoder-only architecture is being used, but right-padding was detected! For correct generation results, please set `padding_side='left'` when initializing the tokenizer.\n",
            " 24%|██▍       | 56/235 [02:40<08:27,  2.84s/it]A decoder-only architecture is being used, but right-padding was detected! For correct generation results, please set `padding_side='left'` when initializing the tokenizer.\n",
            " 24%|██▍       | 57/235 [02:43<08:24,  2.84s/it]A decoder-only architecture is being used, but right-padding was detected! For correct generation results, please set `padding_side='left'` when initializing the tokenizer.\n",
            " 25%|██▍       | 58/235 [02:45<08:22,  2.84s/it]A decoder-only architecture is being used, but right-padding was detected! For correct generation results, please set `padding_side='left'` when initializing the tokenizer.\n",
            " 25%|██▌       | 59/235 [02:48<08:30,  2.90s/it]A decoder-only architecture is being used, but right-padding was detected! For correct generation results, please set `padding_side='left'` when initializing the tokenizer.\n",
            " 26%|██▌       | 60/235 [02:52<09:16,  3.18s/it]A decoder-only architecture is being used, but right-padding was detected! For correct generation results, please set `padding_side='left'` when initializing the tokenizer.\n",
            " 26%|██▌       | 61/235 [02:55<08:57,  3.09s/it]A decoder-only architecture is being used, but right-padding was detected! For correct generation results, please set `padding_side='left'` when initializing the tokenizer.\n",
            " 26%|██▋       | 62/235 [02:58<08:41,  3.01s/it]A decoder-only architecture is being used, but right-padding was detected! For correct generation results, please set `padding_side='left'` when initializing the tokenizer.\n",
            " 27%|██▋       | 63/235 [03:01<08:28,  2.96s/it]A decoder-only architecture is being used, but right-padding was detected! For correct generation results, please set `padding_side='left'` when initializing the tokenizer.\n",
            " 27%|██▋       | 64/235 [03:04<08:19,  2.92s/it]A decoder-only architecture is being used, but right-padding was detected! For correct generation results, please set `padding_side='left'` when initializing the tokenizer.\n",
            " 28%|██▊       | 65/235 [03:07<08:35,  3.03s/it]A decoder-only architecture is being used, but right-padding was detected! For correct generation results, please set `padding_side='left'` when initializing the tokenizer.\n",
            " 28%|██▊       | 66/235 [03:10<08:59,  3.19s/it]A decoder-only architecture is being used, but right-padding was detected! For correct generation results, please set `padding_side='left'` when initializing the tokenizer.\n",
            " 29%|██▊       | 67/235 [03:13<08:37,  3.08s/it]A decoder-only architecture is being used, but right-padding was detected! For correct generation results, please set `padding_side='left'` when initializing the tokenizer.\n",
            " 29%|██▉       | 68/235 [03:16<08:23,  3.01s/it]A decoder-only architecture is being used, but right-padding was detected! For correct generation results, please set `padding_side='left'` when initializing the tokenizer.\n",
            " 29%|██▉       | 69/235 [03:19<08:12,  2.97s/it]A decoder-only architecture is being used, but right-padding was detected! For correct generation results, please set `padding_side='left'` when initializing the tokenizer.\n",
            " 30%|██▉       | 70/235 [03:22<08:03,  2.93s/it]A decoder-only architecture is being used, but right-padding was detected! For correct generation results, please set `padding_side='left'` when initializing the tokenizer.\n",
            " 30%|███       | 71/235 [03:25<07:56,  2.91s/it]A decoder-only architecture is being used, but right-padding was detected! For correct generation results, please set `padding_side='left'` when initializing the tokenizer.\n",
            " 31%|███       | 72/235 [03:28<07:51,  2.89s/it]A decoder-only architecture is being used, but right-padding was detected! For correct generation results, please set `padding_side='left'` when initializing the tokenizer.\n",
            " 31%|███       | 73/235 [03:30<07:45,  2.87s/it]A decoder-only architecture is being used, but right-padding was detected! For correct generation results, please set `padding_side='left'` when initializing the tokenizer.\n",
            " 31%|███▏      | 74/235 [03:33<07:42,  2.87s/it]A decoder-only architecture is being used, but right-padding was detected! For correct generation results, please set `padding_side='left'` when initializing the tokenizer.\n",
            " 32%|███▏      | 75/235 [03:36<07:41,  2.88s/it]A decoder-only architecture is being used, but right-padding was detected! For correct generation results, please set `padding_side='left'` when initializing the tokenizer.\n",
            " 32%|███▏      | 76/235 [03:39<07:34,  2.86s/it]A decoder-only architecture is being used, but right-padding was detected! For correct generation results, please set `padding_side='left'` when initializing the tokenizer.\n",
            " 33%|███▎      | 77/235 [03:42<07:31,  2.86s/it]A decoder-only architecture is being used, but right-padding was detected! For correct generation results, please set `padding_side='left'` when initializing the tokenizer.\n",
            " 33%|███▎      | 78/235 [03:45<07:28,  2.86s/it]A decoder-only architecture is being used, but right-padding was detected! For correct generation results, please set `padding_side='left'` when initializing the tokenizer.\n",
            " 34%|███▎      | 79/235 [03:48<07:29,  2.88s/it]A decoder-only architecture is being used, but right-padding was detected! For correct generation results, please set `padding_side='left'` when initializing the tokenizer.\n",
            " 34%|███▍      | 80/235 [03:50<07:23,  2.86s/it]A decoder-only architecture is being used, but right-padding was detected! For correct generation results, please set `padding_side='left'` when initializing the tokenizer.\n",
            " 34%|███▍      | 81/235 [03:53<07:16,  2.83s/it]A decoder-only architecture is being used, but right-padding was detected! For correct generation results, please set `padding_side='left'` when initializing the tokenizer.\n",
            " 35%|███▍      | 82/235 [03:56<07:13,  2.83s/it]A decoder-only architecture is being used, but right-padding was detected! For correct generation results, please set `padding_side='left'` when initializing the tokenizer.\n",
            " 35%|███▌      | 83/235 [03:59<07:12,  2.84s/it]A decoder-only architecture is being used, but right-padding was detected! For correct generation results, please set `padding_side='left'` when initializing the tokenizer.\n",
            " 36%|███▌      | 84/235 [04:02<07:10,  2.85s/it]A decoder-only architecture is being used, but right-padding was detected! For correct generation results, please set `padding_side='left'` when initializing the tokenizer.\n",
            " 36%|███▌      | 85/235 [04:05<07:05,  2.84s/it]A decoder-only architecture is being used, but right-padding was detected! For correct generation results, please set `padding_side='left'` when initializing the tokenizer.\n",
            " 37%|███▋      | 86/235 [04:07<07:01,  2.83s/it]A decoder-only architecture is being used, but right-padding was detected! For correct generation results, please set `padding_side='left'` when initializing the tokenizer.\n",
            " 37%|███▋      | 87/235 [04:10<06:59,  2.84s/it]A decoder-only architecture is being used, but right-padding was detected! For correct generation results, please set `padding_side='left'` when initializing the tokenizer.\n",
            " 37%|███▋      | 88/235 [04:13<06:53,  2.81s/it]A decoder-only architecture is being used, but right-padding was detected! For correct generation results, please set `padding_side='left'` when initializing the tokenizer.\n",
            " 38%|███▊      | 89/235 [04:16<06:49,  2.81s/it]A decoder-only architecture is being used, but right-padding was detected! For correct generation results, please set `padding_side='left'` when initializing the tokenizer.\n",
            " 38%|███▊      | 90/235 [04:19<06:47,  2.81s/it]A decoder-only architecture is being used, but right-padding was detected! For correct generation results, please set `padding_side='left'` when initializing the tokenizer.\n",
            " 39%|███▊      | 91/235 [04:21<06:41,  2.79s/it]A decoder-only architecture is being used, but right-padding was detected! For correct generation results, please set `padding_side='left'` when initializing the tokenizer.\n",
            " 39%|███▉      | 92/235 [04:24<06:42,  2.81s/it]A decoder-only architecture is being used, but right-padding was detected! For correct generation results, please set `padding_side='left'` when initializing the tokenizer.\n",
            " 40%|███▉      | 93/235 [04:27<06:40,  2.82s/it]A decoder-only architecture is being used, but right-padding was detected! For correct generation results, please set `padding_side='left'` when initializing the tokenizer.\n",
            " 40%|████      | 94/235 [04:30<06:40,  2.84s/it]A decoder-only architecture is being used, but right-padding was detected! For correct generation results, please set `padding_side='left'` when initializing the tokenizer.\n",
            " 40%|████      | 95/235 [04:33<06:36,  2.83s/it]A decoder-only architecture is being used, but right-padding was detected! For correct generation results, please set `padding_side='left'` when initializing the tokenizer.\n",
            " 41%|████      | 96/235 [04:36<06:36,  2.85s/it]A decoder-only architecture is being used, but right-padding was detected! For correct generation results, please set `padding_side='left'` when initializing the tokenizer.\n",
            " 41%|████▏     | 97/235 [04:38<06:32,  2.84s/it]A decoder-only architecture is being used, but right-padding was detected! For correct generation results, please set `padding_side='left'` when initializing the tokenizer.\n",
            " 42%|████▏     | 98/235 [04:41<06:30,  2.85s/it]A decoder-only architecture is being used, but right-padding was detected! For correct generation results, please set `padding_side='left'` when initializing the tokenizer.\n",
            " 42%|████▏     | 99/235 [04:44<06:28,  2.85s/it]A decoder-only architecture is being used, but right-padding was detected! For correct generation results, please set `padding_side='left'` when initializing the tokenizer.\n",
            " 43%|████▎     | 100/235 [04:47<06:22,  2.84s/it]A decoder-only architecture is being used, but right-padding was detected! For correct generation results, please set `padding_side='left'` when initializing the tokenizer.\n",
            " 43%|████▎     | 101/235 [04:50<06:19,  2.84s/it]A decoder-only architecture is being used, but right-padding was detected! For correct generation results, please set `padding_side='left'` when initializing the tokenizer.\n",
            " 43%|████▎     | 102/235 [04:53<06:17,  2.84s/it]A decoder-only architecture is being used, but right-padding was detected! For correct generation results, please set `padding_side='left'` when initializing the tokenizer.\n",
            " 44%|████▍     | 103/235 [04:55<06:13,  2.83s/it]A decoder-only architecture is being used, but right-padding was detected! For correct generation results, please set `padding_side='left'` when initializing the tokenizer.\n",
            " 44%|████▍     | 104/235 [04:58<06:11,  2.83s/it]A decoder-only architecture is being used, but right-padding was detected! For correct generation results, please set `padding_side='left'` when initializing the tokenizer.\n",
            " 45%|████▍     | 105/235 [05:01<06:08,  2.83s/it]A decoder-only architecture is being used, but right-padding was detected! For correct generation results, please set `padding_side='left'` when initializing the tokenizer.\n",
            " 45%|████▌     | 106/235 [05:04<06:06,  2.84s/it]A decoder-only architecture is being used, but right-padding was detected! For correct generation results, please set `padding_side='left'` when initializing the tokenizer.\n",
            " 46%|████▌     | 107/235 [05:07<06:03,  2.84s/it]A decoder-only architecture is being used, but right-padding was detected! For correct generation results, please set `padding_side='left'` when initializing the tokenizer.\n",
            " 46%|████▌     | 108/235 [05:10<06:02,  2.85s/it]A decoder-only architecture is being used, but right-padding was detected! For correct generation results, please set `padding_side='left'` when initializing the tokenizer.\n",
            " 46%|████▋     | 109/235 [05:13<05:58,  2.85s/it]A decoder-only architecture is being used, but right-padding was detected! For correct generation results, please set `padding_side='left'` when initializing the tokenizer.\n",
            " 47%|████▋     | 110/235 [05:16<06:02,  2.90s/it]A decoder-only architecture is being used, but right-padding was detected! For correct generation results, please set `padding_side='left'` when initializing the tokenizer.\n",
            " 47%|████▋     | 111/235 [05:19<06:32,  3.16s/it]A decoder-only architecture is being used, but right-padding was detected! For correct generation results, please set `padding_side='left'` when initializing the tokenizer.\n",
            " 48%|████▊     | 112/235 [05:22<06:18,  3.08s/it]A decoder-only architecture is being used, but right-padding was detected! For correct generation results, please set `padding_side='left'` when initializing the tokenizer.\n",
            " 48%|████▊     | 113/235 [05:25<06:06,  3.01s/it]A decoder-only architecture is being used, but right-padding was detected! For correct generation results, please set `padding_side='left'` when initializing the tokenizer.\n",
            " 49%|████▊     | 114/235 [05:28<05:55,  2.94s/it]A decoder-only architecture is being used, but right-padding was detected! For correct generation results, please set `padding_side='left'` when initializing the tokenizer.\n",
            " 49%|████▉     | 115/235 [05:31<05:52,  2.94s/it]A decoder-only architecture is being used, but right-padding was detected! For correct generation results, please set `padding_side='left'` when initializing the tokenizer.\n",
            " 49%|████▉     | 116/235 [05:34<06:13,  3.14s/it]A decoder-only architecture is being used, but right-padding was detected! For correct generation results, please set `padding_side='left'` when initializing the tokenizer.\n",
            " 50%|████▉     | 117/235 [05:37<06:06,  3.10s/it]A decoder-only architecture is being used, but right-padding was detected! For correct generation results, please set `padding_side='left'` when initializing the tokenizer.\n",
            " 50%|█████     | 118/235 [05:40<05:52,  3.01s/it]A decoder-only architecture is being used, but right-padding was detected! For correct generation results, please set `padding_side='left'` when initializing the tokenizer.\n",
            " 51%|█████     | 119/235 [05:43<05:42,  2.95s/it]A decoder-only architecture is being used, but right-padding was detected! For correct generation results, please set `padding_side='left'` when initializing the tokenizer.\n",
            " 51%|█████     | 120/235 [05:46<05:36,  2.93s/it]A decoder-only architecture is being used, but right-padding was detected! For correct generation results, please set `padding_side='left'` when initializing the tokenizer.\n",
            " 51%|█████▏    | 121/235 [05:49<05:28,  2.88s/it]A decoder-only architecture is being used, but right-padding was detected! For correct generation results, please set `padding_side='left'` when initializing the tokenizer.\n",
            " 52%|█████▏    | 122/235 [05:51<05:21,  2.85s/it]A decoder-only architecture is being used, but right-padding was detected! For correct generation results, please set `padding_side='left'` when initializing the tokenizer.\n",
            " 52%|█████▏    | 123/235 [05:54<05:20,  2.86s/it]A decoder-only architecture is being used, but right-padding was detected! For correct generation results, please set `padding_side='left'` when initializing the tokenizer.\n",
            " 53%|█████▎    | 124/235 [05:57<05:17,  2.86s/it]A decoder-only architecture is being used, but right-padding was detected! For correct generation results, please set `padding_side='left'` when initializing the tokenizer.\n",
            " 53%|█████▎    | 125/235 [06:00<05:12,  2.84s/it]A decoder-only architecture is being used, but right-padding was detected! For correct generation results, please set `padding_side='left'` when initializing the tokenizer.\n",
            " 54%|█████▎    | 126/235 [06:03<05:07,  2.82s/it]A decoder-only architecture is being used, but right-padding was detected! For correct generation results, please set `padding_side='left'` when initializing the tokenizer.\n",
            " 54%|█████▍    | 127/235 [06:06<05:05,  2.83s/it]A decoder-only architecture is being used, but right-padding was detected! For correct generation results, please set `padding_side='left'` when initializing the tokenizer.\n",
            " 54%|█████▍    | 128/235 [06:09<05:04,  2.85s/it]A decoder-only architecture is being used, but right-padding was detected! For correct generation results, please set `padding_side='left'` when initializing the tokenizer.\n",
            " 55%|█████▍    | 129/235 [06:11<05:00,  2.83s/it]A decoder-only architecture is being used, but right-padding was detected! For correct generation results, please set `padding_side='left'` when initializing the tokenizer.\n",
            " 55%|█████▌    | 130/235 [06:14<04:56,  2.82s/it]A decoder-only architecture is being used, but right-padding was detected! For correct generation results, please set `padding_side='left'` when initializing the tokenizer.\n",
            " 56%|█████▌    | 131/235 [06:17<04:51,  2.80s/it]A decoder-only architecture is being used, but right-padding was detected! For correct generation results, please set `padding_side='left'` when initializing the tokenizer.\n",
            " 56%|█████▌    | 132/235 [06:20<04:49,  2.81s/it]A decoder-only architecture is being used, but right-padding was detected! For correct generation results, please set `padding_side='left'` when initializing the tokenizer.\n",
            " 57%|█████▋    | 133/235 [06:23<04:46,  2.81s/it]A decoder-only architecture is being used, but right-padding was detected! For correct generation results, please set `padding_side='left'` when initializing the tokenizer.\n",
            " 57%|█████▋    | 134/235 [06:25<04:43,  2.81s/it]A decoder-only architecture is being used, but right-padding was detected! For correct generation results, please set `padding_side='left'` when initializing the tokenizer.\n",
            " 57%|█████▋    | 135/235 [06:28<04:40,  2.80s/it]A decoder-only architecture is being used, but right-padding was detected! For correct generation results, please set `padding_side='left'` when initializing the tokenizer.\n",
            " 58%|█████▊    | 136/235 [06:31<04:39,  2.82s/it]A decoder-only architecture is being used, but right-padding was detected! For correct generation results, please set `padding_side='left'` when initializing the tokenizer.\n",
            " 58%|█████▊    | 137/235 [06:34<04:34,  2.81s/it]A decoder-only architecture is being used, but right-padding was detected! For correct generation results, please set `padding_side='left'` when initializing the tokenizer.\n",
            " 59%|█████▊    | 138/235 [06:37<04:30,  2.79s/it]A decoder-only architecture is being used, but right-padding was detected! For correct generation results, please set `padding_side='left'` when initializing the tokenizer.\n",
            " 59%|█████▉    | 139/235 [06:39<04:24,  2.76s/it]A decoder-only architecture is being used, but right-padding was detected! For correct generation results, please set `padding_side='left'` when initializing the tokenizer.\n",
            " 60%|█████▉    | 140/235 [06:42<04:23,  2.77s/it]A decoder-only architecture is being used, but right-padding was detected! For correct generation results, please set `padding_side='left'` when initializing the tokenizer.\n",
            " 60%|██████    | 141/235 [06:45<04:20,  2.78s/it]A decoder-only architecture is being used, but right-padding was detected! For correct generation results, please set `padding_side='left'` when initializing the tokenizer.\n",
            " 60%|██████    | 142/235 [06:48<04:16,  2.76s/it]A decoder-only architecture is being used, but right-padding was detected! For correct generation results, please set `padding_side='left'` when initializing the tokenizer.\n",
            " 61%|██████    | 143/235 [06:50<04:14,  2.76s/it]A decoder-only architecture is being used, but right-padding was detected! For correct generation results, please set `padding_side='left'` when initializing the tokenizer.\n",
            " 61%|██████▏   | 144/235 [06:53<04:14,  2.79s/it]A decoder-only architecture is being used, but right-padding was detected! For correct generation results, please set `padding_side='left'` when initializing the tokenizer.\n",
            " 62%|██████▏   | 145/235 [06:56<04:10,  2.79s/it]A decoder-only architecture is being used, but right-padding was detected! For correct generation results, please set `padding_side='left'` when initializing the tokenizer.\n",
            " 62%|██████▏   | 146/235 [06:59<04:07,  2.78s/it]A decoder-only architecture is being used, but right-padding was detected! For correct generation results, please set `padding_side='left'` when initializing the tokenizer.\n",
            " 63%|██████▎   | 147/235 [07:01<04:05,  2.79s/it]A decoder-only architecture is being used, but right-padding was detected! For correct generation results, please set `padding_side='left'` when initializing the tokenizer.\n",
            " 63%|██████▎   | 148/235 [07:04<04:03,  2.79s/it]A decoder-only architecture is being used, but right-padding was detected! For correct generation results, please set `padding_side='left'` when initializing the tokenizer.\n",
            " 63%|██████▎   | 149/235 [07:07<04:02,  2.82s/it]A decoder-only architecture is being used, but right-padding was detected! For correct generation results, please set `padding_side='left'` when initializing the tokenizer.\n",
            " 64%|██████▍   | 150/235 [07:10<03:58,  2.81s/it]A decoder-only architecture is being used, but right-padding was detected! For correct generation results, please set `padding_side='left'` when initializing the tokenizer.\n",
            " 64%|██████▍   | 151/235 [07:13<03:55,  2.80s/it]A decoder-only architecture is being used, but right-padding was detected! For correct generation results, please set `padding_side='left'` when initializing the tokenizer.\n",
            " 65%|██████▍   | 152/235 [07:16<03:52,  2.80s/it]A decoder-only architecture is being used, but right-padding was detected! For correct generation results, please set `padding_side='left'` when initializing the tokenizer.\n",
            " 65%|██████▌   | 153/235 [07:18<03:49,  2.80s/it]A decoder-only architecture is being used, but right-padding was detected! For correct generation results, please set `padding_side='left'` when initializing the tokenizer.\n",
            " 66%|██████▌   | 154/235 [07:21<03:46,  2.80s/it]A decoder-only architecture is being used, but right-padding was detected! For correct generation results, please set `padding_side='left'` when initializing the tokenizer.\n",
            " 66%|██████▌   | 155/235 [07:24<03:45,  2.82s/it]A decoder-only architecture is being used, but right-padding was detected! For correct generation results, please set `padding_side='left'` when initializing the tokenizer.\n",
            " 66%|██████▋   | 156/235 [07:27<03:42,  2.82s/it]A decoder-only architecture is being used, but right-padding was detected! For correct generation results, please set `padding_side='left'` when initializing the tokenizer.\n",
            " 67%|██████▋   | 157/235 [07:30<03:40,  2.82s/it]A decoder-only architecture is being used, but right-padding was detected! For correct generation results, please set `padding_side='left'` when initializing the tokenizer.\n",
            " 67%|██████▋   | 158/235 [07:32<03:36,  2.81s/it]A decoder-only architecture is being used, but right-padding was detected! For correct generation results, please set `padding_side='left'` when initializing the tokenizer.\n",
            " 68%|██████▊   | 159/235 [07:35<03:32,  2.79s/it]A decoder-only architecture is being used, but right-padding was detected! For correct generation results, please set `padding_side='left'` when initializing the tokenizer.\n",
            " 68%|██████▊   | 160/235 [07:38<03:29,  2.80s/it]A decoder-only architecture is being used, but right-padding was detected! For correct generation results, please set `padding_side='left'` when initializing the tokenizer.\n",
            " 69%|██████▊   | 161/235 [07:41<03:27,  2.80s/it]A decoder-only architecture is being used, but right-padding was detected! For correct generation results, please set `padding_side='left'` when initializing the tokenizer.\n",
            " 69%|██████▉   | 162/235 [07:44<03:29,  2.87s/it]A decoder-only architecture is being used, but right-padding was detected! For correct generation results, please set `padding_side='left'` when initializing the tokenizer.\n",
            " 69%|██████▉   | 163/235 [07:47<03:42,  3.09s/it]A decoder-only architecture is being used, but right-padding was detected! For correct generation results, please set `padding_side='left'` when initializing the tokenizer.\n",
            " 70%|██████▉   | 164/235 [07:50<03:33,  3.01s/it]A decoder-only architecture is being used, but right-padding was detected! For correct generation results, please set `padding_side='left'` when initializing the tokenizer.\n",
            " 70%|███████   | 165/235 [07:53<03:27,  2.96s/it]A decoder-only architecture is being used, but right-padding was detected! For correct generation results, please set `padding_side='left'` when initializing the tokenizer.\n",
            " 71%|███████   | 166/235 [07:56<03:21,  2.92s/it]A decoder-only architecture is being used, but right-padding was detected! For correct generation results, please set `padding_side='left'` when initializing the tokenizer.\n",
            " 71%|███████   | 167/235 [07:59<03:25,  3.02s/it]A decoder-only architecture is being used, but right-padding was detected! For correct generation results, please set `padding_side='left'` when initializing the tokenizer.\n",
            " 71%|███████▏  | 168/235 [08:03<03:30,  3.15s/it]A decoder-only architecture is being used, but right-padding was detected! For correct generation results, please set `padding_side='left'` when initializing the tokenizer.\n",
            " 72%|███████▏  | 169/235 [08:05<03:19,  3.03s/it]A decoder-only architecture is being used, but right-padding was detected! For correct generation results, please set `padding_side='left'` when initializing the tokenizer.\n",
            " 72%|███████▏  | 170/235 [08:08<03:12,  2.95s/it]A decoder-only architecture is being used, but right-padding was detected! For correct generation results, please set `padding_side='left'` when initializing the tokenizer.\n",
            " 73%|███████▎  | 171/235 [08:11<03:05,  2.90s/it]A decoder-only architecture is being used, but right-padding was detected! For correct generation results, please set `padding_side='left'` when initializing the tokenizer.\n",
            " 73%|███████▎  | 172/235 [08:14<03:01,  2.88s/it]A decoder-only architecture is being used, but right-padding was detected! For correct generation results, please set `padding_side='left'` when initializing the tokenizer.\n",
            " 74%|███████▎  | 173/235 [08:17<02:58,  2.87s/it]A decoder-only architecture is being used, but right-padding was detected! For correct generation results, please set `padding_side='left'` when initializing the tokenizer.\n",
            " 74%|███████▍  | 174/235 [08:19<02:52,  2.83s/it]A decoder-only architecture is being used, but right-padding was detected! For correct generation results, please set `padding_side='left'` when initializing the tokenizer.\n",
            " 74%|███████▍  | 175/235 [08:22<02:48,  2.81s/it]A decoder-only architecture is being used, but right-padding was detected! For correct generation results, please set `padding_side='left'` when initializing the tokenizer.\n",
            " 75%|███████▍  | 176/235 [08:25<02:45,  2.80s/it]A decoder-only architecture is being used, but right-padding was detected! For correct generation results, please set `padding_side='left'` when initializing the tokenizer.\n",
            " 75%|███████▌  | 177/235 [08:28<02:43,  2.83s/it]A decoder-only architecture is being used, but right-padding was detected! For correct generation results, please set `padding_side='left'` when initializing the tokenizer.\n",
            " 76%|███████▌  | 178/235 [08:31<02:42,  2.84s/it]A decoder-only architecture is being used, but right-padding was detected! For correct generation results, please set `padding_side='left'` when initializing the tokenizer.\n",
            " 76%|███████▌  | 179/235 [08:33<02:37,  2.81s/it]A decoder-only architecture is being used, but right-padding was detected! For correct generation results, please set `padding_side='left'` when initializing the tokenizer.\n",
            " 77%|███████▋  | 180/235 [08:36<02:34,  2.81s/it]A decoder-only architecture is being used, but right-padding was detected! For correct generation results, please set `padding_side='left'` when initializing the tokenizer.\n",
            " 77%|███████▋  | 181/235 [08:39<02:32,  2.82s/it]A decoder-only architecture is being used, but right-padding was detected! For correct generation results, please set `padding_side='left'` when initializing the tokenizer.\n",
            " 77%|███████▋  | 182/235 [08:42<02:29,  2.82s/it]A decoder-only architecture is being used, but right-padding was detected! For correct generation results, please set `padding_side='left'` when initializing the tokenizer.\n",
            " 78%|███████▊  | 183/235 [08:45<02:26,  2.82s/it]A decoder-only architecture is being used, but right-padding was detected! For correct generation results, please set `padding_side='left'` when initializing the tokenizer.\n",
            " 78%|███████▊  | 184/235 [08:48<02:24,  2.83s/it]A decoder-only architecture is being used, but right-padding was detected! For correct generation results, please set `padding_side='left'` when initializing the tokenizer.\n",
            " 79%|███████▊  | 185/235 [08:50<02:21,  2.82s/it]A decoder-only architecture is being used, but right-padding was detected! For correct generation results, please set `padding_side='left'` when initializing the tokenizer.\n",
            " 79%|███████▉  | 186/235 [08:53<02:19,  2.85s/it]A decoder-only architecture is being used, but right-padding was detected! For correct generation results, please set `padding_side='left'` when initializing the tokenizer.\n",
            " 80%|███████▉  | 187/235 [08:56<02:15,  2.83s/it]A decoder-only architecture is being used, but right-padding was detected! For correct generation results, please set `padding_side='left'` when initializing the tokenizer.\n",
            " 80%|████████  | 188/235 [08:59<02:12,  2.82s/it]A decoder-only architecture is being used, but right-padding was detected! For correct generation results, please set `padding_side='left'` when initializing the tokenizer.\n",
            " 80%|████████  | 189/235 [09:02<02:09,  2.83s/it]A decoder-only architecture is being used, but right-padding was detected! For correct generation results, please set `padding_side='left'` when initializing the tokenizer.\n",
            " 81%|████████  | 190/235 [09:04<02:06,  2.80s/it]A decoder-only architecture is being used, but right-padding was detected! For correct generation results, please set `padding_side='left'` when initializing the tokenizer.\n",
            " 81%|████████▏ | 191/235 [09:07<02:02,  2.79s/it]A decoder-only architecture is being used, but right-padding was detected! For correct generation results, please set `padding_side='left'` when initializing the tokenizer.\n",
            " 82%|████████▏ | 192/235 [09:10<02:00,  2.79s/it]A decoder-only architecture is being used, but right-padding was detected! For correct generation results, please set `padding_side='left'` when initializing the tokenizer.\n",
            " 82%|████████▏ | 193/235 [09:13<01:57,  2.79s/it]A decoder-only architecture is being used, but right-padding was detected! For correct generation results, please set `padding_side='left'` when initializing the tokenizer.\n",
            " 83%|████████▎ | 194/235 [09:16<01:54,  2.80s/it]A decoder-only architecture is being used, but right-padding was detected! For correct generation results, please set `padding_side='left'` when initializing the tokenizer.\n",
            " 83%|████████▎ | 195/235 [09:18<01:51,  2.80s/it]A decoder-only architecture is being used, but right-padding was detected! For correct generation results, please set `padding_side='left'` when initializing the tokenizer.\n",
            " 83%|████████▎ | 196/235 [09:21<01:49,  2.80s/it]A decoder-only architecture is being used, but right-padding was detected! For correct generation results, please set `padding_side='left'` when initializing the tokenizer.\n",
            " 84%|████████▍ | 197/235 [09:24<01:46,  2.81s/it]A decoder-only architecture is being used, but right-padding was detected! For correct generation results, please set `padding_side='left'` when initializing the tokenizer.\n",
            " 84%|████████▍ | 198/235 [09:27<01:43,  2.79s/it]A decoder-only architecture is being used, but right-padding was detected! For correct generation results, please set `padding_side='left'` when initializing the tokenizer.\n",
            " 85%|████████▍ | 199/235 [09:30<01:40,  2.80s/it]A decoder-only architecture is being used, but right-padding was detected! For correct generation results, please set `padding_side='left'` when initializing the tokenizer.\n",
            " 85%|████████▌ | 200/235 [09:32<01:38,  2.81s/it]A decoder-only architecture is being used, but right-padding was detected! For correct generation results, please set `padding_side='left'` when initializing the tokenizer.\n",
            " 86%|████████▌ | 201/235 [09:35<01:35,  2.80s/it]A decoder-only architecture is being used, but right-padding was detected! For correct generation results, please set `padding_side='left'` when initializing the tokenizer.\n",
            " 86%|████████▌ | 202/235 [09:38<01:32,  2.80s/it]A decoder-only architecture is being used, but right-padding was detected! For correct generation results, please set `padding_side='left'` when initializing the tokenizer.\n",
            " 86%|████████▋ | 203/235 [09:41<01:29,  2.80s/it]A decoder-only architecture is being used, but right-padding was detected! For correct generation results, please set `padding_side='left'` when initializing the tokenizer.\n",
            " 87%|████████▋ | 204/235 [09:44<01:25,  2.77s/it]A decoder-only architecture is being used, but right-padding was detected! For correct generation results, please set `padding_side='left'` when initializing the tokenizer.\n",
            " 87%|████████▋ | 205/235 [09:46<01:23,  2.79s/it]A decoder-only architecture is being used, but right-padding was detected! For correct generation results, please set `padding_side='left'` when initializing the tokenizer.\n",
            " 88%|████████▊ | 206/235 [09:49<01:21,  2.80s/it]A decoder-only architecture is being used, but right-padding was detected! For correct generation results, please set `padding_side='left'` when initializing the tokenizer.\n",
            " 88%|████████▊ | 207/235 [09:52<01:17,  2.78s/it]A decoder-only architecture is being used, but right-padding was detected! For correct generation results, please set `padding_side='left'` when initializing the tokenizer.\n",
            " 89%|████████▊ | 208/235 [09:55<01:15,  2.78s/it]A decoder-only architecture is being used, but right-padding was detected! For correct generation results, please set `padding_side='left'` when initializing the tokenizer.\n",
            " 89%|████████▉ | 209/235 [09:57<01:12,  2.78s/it]A decoder-only architecture is being used, but right-padding was detected! For correct generation results, please set `padding_side='left'` when initializing the tokenizer.\n",
            " 89%|████████▉ | 210/235 [10:00<01:09,  2.79s/it]A decoder-only architecture is being used, but right-padding was detected! For correct generation results, please set `padding_side='left'` when initializing the tokenizer.\n",
            " 90%|████████▉ | 211/235 [10:03<01:07,  2.80s/it]A decoder-only architecture is being used, but right-padding was detected! For correct generation results, please set `padding_side='left'` when initializing the tokenizer.\n",
            " 90%|█████████ | 212/235 [10:06<01:04,  2.79s/it]A decoder-only architecture is being used, but right-padding was detected! For correct generation results, please set `padding_side='left'` when initializing the tokenizer.\n",
            " 91%|█████████ | 213/235 [10:09<01:01,  2.78s/it]A decoder-only architecture is being used, but right-padding was detected! For correct generation results, please set `padding_side='left'` when initializing the tokenizer.\n",
            " 91%|█████████ | 214/235 [10:12<01:00,  2.86s/it]A decoder-only architecture is being used, but right-padding was detected! For correct generation results, please set `padding_side='left'` when initializing the tokenizer.\n",
            " 91%|█████████▏| 215/235 [10:15<01:01,  3.10s/it]A decoder-only architecture is being used, but right-padding was detected! For correct generation results, please set `padding_side='left'` when initializing the tokenizer.\n",
            " 92%|█████████▏| 216/235 [10:18<00:56,  2.99s/it]A decoder-only architecture is being used, but right-padding was detected! For correct generation results, please set `padding_side='left'` when initializing the tokenizer.\n",
            " 92%|█████████▏| 217/235 [10:21<00:52,  2.94s/it]A decoder-only architecture is being used, but right-padding was detected! For correct generation results, please set `padding_side='left'` when initializing the tokenizer.\n",
            " 93%|█████████▎| 218/235 [10:24<00:49,  2.89s/it]A decoder-only architecture is being used, but right-padding was detected! For correct generation results, please set `padding_side='left'` when initializing the tokenizer.\n",
            " 93%|█████████▎| 219/235 [10:27<00:48,  3.03s/it]A decoder-only architecture is being used, but right-padding was detected! For correct generation results, please set `padding_side='left'` when initializing the tokenizer.\n",
            " 94%|█████████▎| 220/235 [10:30<00:46,  3.10s/it]A decoder-only architecture is being used, but right-padding was detected! For correct generation results, please set `padding_side='left'` when initializing the tokenizer.\n",
            " 94%|█████████▍| 221/235 [10:33<00:42,  3.02s/it]A decoder-only architecture is being used, but right-padding was detected! For correct generation results, please set `padding_side='left'` when initializing the tokenizer.\n",
            " 94%|█████████▍| 222/235 [10:36<00:38,  2.93s/it]A decoder-only architecture is being used, but right-padding was detected! For correct generation results, please set `padding_side='left'` when initializing the tokenizer.\n",
            " 95%|█████████▍| 223/235 [10:39<00:34,  2.88s/it]A decoder-only architecture is being used, but right-padding was detected! For correct generation results, please set `padding_side='left'` when initializing the tokenizer.\n",
            " 95%|█████████▌| 224/235 [10:41<00:31,  2.86s/it]A decoder-only architecture is being used, but right-padding was detected! For correct generation results, please set `padding_side='left'` when initializing the tokenizer.\n",
            " 96%|█████████▌| 225/235 [10:44<00:28,  2.85s/it]A decoder-only architecture is being used, but right-padding was detected! For correct generation results, please set `padding_side='left'` when initializing the tokenizer.\n",
            " 96%|█████████▌| 226/235 [10:47<00:25,  2.83s/it]A decoder-only architecture is being used, but right-padding was detected! For correct generation results, please set `padding_side='left'` when initializing the tokenizer.\n",
            " 97%|█████████▋| 227/235 [10:50<00:22,  2.83s/it]A decoder-only architecture is being used, but right-padding was detected! For correct generation results, please set `padding_side='left'` when initializing the tokenizer.\n",
            " 97%|█████████▋| 228/235 [10:53<00:19,  2.82s/it]A decoder-only architecture is being used, but right-padding was detected! For correct generation results, please set `padding_side='left'` when initializing the tokenizer.\n",
            " 97%|█████████▋| 229/235 [10:55<00:16,  2.80s/it]A decoder-only architecture is being used, but right-padding was detected! For correct generation results, please set `padding_side='left'` when initializing the tokenizer.\n",
            " 98%|█████████▊| 230/235 [10:58<00:13,  2.79s/it]A decoder-only architecture is being used, but right-padding was detected! For correct generation results, please set `padding_side='left'` when initializing the tokenizer.\n",
            " 98%|█████████▊| 231/235 [11:01<00:11,  2.79s/it]A decoder-only architecture is being used, but right-padding was detected! For correct generation results, please set `padding_side='left'` when initializing the tokenizer.\n",
            " 99%|█████████▊| 232/235 [11:04<00:08,  2.80s/it]A decoder-only architecture is being used, but right-padding was detected! For correct generation results, please set `padding_side='left'` when initializing the tokenizer.\n",
            " 99%|█████████▉| 233/235 [11:07<00:05,  2.79s/it]A decoder-only architecture is being used, but right-padding was detected! For correct generation results, please set `padding_side='left'` when initializing the tokenizer.\n",
            "100%|█████████▉| 234/235 [11:09<00:02,  2.79s/it]A decoder-only architecture is being used, but right-padding was detected! For correct generation results, please set `padding_side='left'` when initializing the tokenizer.\n",
            "100%|██████████| 235/235 [11:12<00:00,  2.86s/it]\n"
          ]
        },
        {
          "output_type": "execute_result",
          "data": {
            "text/plain": [
              "0.5531914893617021"
            ]
          },
          "metadata": {},
          "execution_count": 13
        }
      ]
    },
    {
      "cell_type": "code",
      "source": [
        "accuracy = positive / total\n",
        "accuracy"
      ],
      "metadata": {
        "id": "y2GK-AwGj-5A",
        "outputId": "005d8156-86af-4a8c-94ff-7024fd95fd9b",
        "colab": {
          "base_uri": "https://localhost:8080/"
        }
      },
      "execution_count": null,
      "outputs": [
        {
          "output_type": "execute_result",
          "data": {
            "text/plain": [
              "0.6042553191489362"
            ]
          },
          "metadata": {},
          "execution_count": 24
        }
      ]
    },
    {
      "cell_type": "code",
      "source": [
        "positive, total, positive/total # MDDial Only"
      ],
      "metadata": {
        "colab": {
          "base_uri": "https://localhost:8080/"
        },
        "id": "azYHeMj-IyPC",
        "outputId": "e3085ce3-4cd4-4b8b-a3b3-2ddd03f5068b"
      },
      "execution_count": 7,
      "outputs": [
        {
          "output_type": "execute_result",
          "data": {
            "text/plain": [
              "(145, 235, 0.6170212765957447)"
            ]
          },
          "metadata": {},
          "execution_count": 7
        }
      ]
    },
    {
      "cell_type": "code",
      "source": [
        "positive, total, positive/total # MDDial + GPT-3 Generated"
      ],
      "metadata": {
        "colab": {
          "base_uri": "https://localhost:8080/"
        },
        "id": "r26jQ0QFxJEV",
        "outputId": "9fe3156b-f96a-404a-f029-48ca5c3032bd"
      },
      "execution_count": 11,
      "outputs": [
        {
          "output_type": "execute_result",
          "data": {
            "text/plain": [
              "(130, 235, 0.5531914893617021)"
            ]
          },
          "metadata": {},
          "execution_count": 11
        }
      ]
    },
    {
      "cell_type": "code",
      "source": [
        "disease_counts # MDDial Only"
      ],
      "metadata": {
        "colab": {
          "base_uri": "https://localhost:8080/"
        },
        "id": "Mz9aEj_9NBpj",
        "outputId": "a5294ffc-e6a6-4491-9d14-e5a1552631c7"
      },
      "execution_count": 8,
      "outputs": [
        {
          "output_type": "execute_result",
          "data": {
            "text/plain": [
              "{'Esophagitis': {'positive': 14, 'total': 27},\n",
              " 'Enteritis': {'positive': 14, 'total': 24},\n",
              " 'Asthma': {'positive': 11, 'total': 19},\n",
              " 'Coronary heart disease': {'positive': 7, 'total': 19},\n",
              " 'Pneumonia': {'positive': 9, 'total': 20},\n",
              " 'Rhinitis': {'positive': 6, 'total': 15},\n",
              " 'Thyroiditis': {'positive': 9, 'total': 19},\n",
              " 'Traumatic brain injury': {'positive': 14, 'total': 19},\n",
              " 'Dermatitis': {'positive': 20, 'total': 20},\n",
              " 'External otitis': {'positive': 14, 'total': 17},\n",
              " 'Conjunctivitis': {'positive': 16, 'total': 21},\n",
              " 'Mastitis': {'positive': 11, 'total': 15}}"
            ]
          },
          "metadata": {},
          "execution_count": 8
        }
      ]
    },
    {
      "cell_type": "code",
      "source": [
        "disease_counts # MDDial + GPT-3 Generated"
      ],
      "metadata": {
        "colab": {
          "base_uri": "https://localhost:8080/"
        },
        "id": "N61PQpSgxFe3",
        "outputId": "2095a4df-667a-4185-ac8c-b457fc5d2d83"
      },
      "execution_count": 12,
      "outputs": [
        {
          "output_type": "execute_result",
          "data": {
            "text/plain": [
              "{'Esophagitis': {'positive': 7, 'total': 27},\n",
              " 'Enteritis': {'positive': 17, 'total': 24},\n",
              " 'Asthma': {'positive': 9, 'total': 19},\n",
              " 'Coronary heart disease': {'positive': 8, 'total': 19},\n",
              " 'Pneumonia': {'positive': 6, 'total': 20},\n",
              " 'Rhinitis': {'positive': 10, 'total': 15},\n",
              " 'Thyroiditis': {'positive': 7, 'total': 19},\n",
              " 'Traumatic brain injury': {'positive': 14, 'total': 19},\n",
              " 'Dermatitis': {'positive': 18, 'total': 20},\n",
              " 'External otitis': {'positive': 12, 'total': 17},\n",
              " 'Conjunctivitis': {'positive': 15, 'total': 21},\n",
              " 'Mastitis': {'positive': 7, 'total': 15}}"
            ]
          },
          "metadata": {},
          "execution_count": 12
        }
      ]
    },
    {
      "cell_type": "code",
      "source": [
        "diseases = [\n",
        "    'Esophagitis', \n",
        "    'Enteritis', \n",
        "    'Asthma', \n",
        "    'Coronary heart disease', \n",
        "    'Pneumonia', \n",
        "    'Rhinitis', \n",
        "    'Thyroiditis', \n",
        "    'Traumatic brain injury',\n",
        "    'Dermatitis',\n",
        "    'External otitis',\n",
        "    'Conjunctivitis',\n",
        "    'Mastitis'\n",
        "]\n",
        "for idx, conv in enumerate(conversations):\n",
        "  if conv[1] == 1:\n",
        "    print(conv[0][0], conv[0][-1])"
      ],
      "metadata": {
        "colab": {
          "base_uri": "https://localhost:8080/"
        },
        "id": "sP-LAL2Pbpfg",
        "outputId": "65a10c14-e715-42f4-9e5b-6b0d0e13a0c1"
      },
      "execution_count": null,
      "outputs": [
        {
          "output_type": "stream",
          "name": "stdout",
          "text": [
            "Recently, I am experiencing Burning sensation behind the breastbone Ok, this means you might be having Esophagitis.\n",
            "Hi Doctor, I am having Chest tightness In that case, you have Esophagitis.\n",
            "I have Nausea and Diarrhea Ok, this means you might be having Esophagitis.\n",
            "Hi Doctor, I am having Chest tightness In that case, you have Esophagitis.\n",
            "Hi Doctor, I am having Chest tightness In that case, you have Esophagitis.\n",
            "I have been feeling Hard to swallow In that case, you have Esophagitis.\n",
            "I have been feeling Expectoration and Chest tightness This could probably be Esophagitis.\n",
            "I have been feeling Burning sensation behind the breastbone and Bloating I believe you are having Esophagitis.\n",
            "Recently, I am experiencing Acid reflux In that case, you have Esophagitis.\n",
            "I have been feeling Acid reflux and Burning sensation behind the breastbone In that case, you have Esophagitis.\n",
            "I have been feeling Acid reflux and Cough This could probably be Esophagitis.\n",
            "Hi Doctor, I am having Acid reflux I believe you are having Esophagitis.\n",
            "Hi Doctor, I am having Acid reflux In that case, you have Esophagitis.\n",
            "Hi Doctor, I am having Thirst and Bitter Ok, this means you might be having Esophagitis.\n",
            "I have Cough and Pharynx discomfort In that case, you have Esophagitis.\n",
            "I have been feeling Pain behind the breastbone I believe you are having Esophagitis.\n",
            "Hi Doctor, I am having Acid reflux In that case, you have Esophagitis.\n",
            "I have Hiccup I believe you are having Esophagitis.\n",
            "Recently, I am experiencing Acid reflux This could probably be Esophagitis.\n",
            "Recently, I am experiencing Pain behind the breastbone I believe you are having Esophagitis.\n",
            "Hi Doctor, I am having Pharynx discomfort and Hemoptysis I believe you are having Esophagitis.\n",
            "Recently, I am experiencing Acid reflux and Burning sensation behind the breastbone I believe you are having Esophagitis.\n",
            "I have been feeling Pharynx discomfort and Burning sensation behind the breastbone In that case, you have Esophagitis.\n",
            "I have Chest tightness Ok, this means you might be having Esophagitis.\n",
            "Hi Doctor, I am having Pharynx discomfort I believe you are having Esophagitis.\n",
            "Recently, I am experiencing Vomiting I believe you are having Esophagitis.\n",
            "I have been feeling Burning sensation behind the breastbone and Chest tightness This could probably be Esophagitis.\n",
            "Recently, I am experiencing Diarrhea and Fever In that case, you have Enteritis.\n",
            "I have been feeling Vomiting This could probably be Enteritis.\n",
            "I have been feeling Decreased urine output and Cough I believe you are having Enteritis.\n",
            "I have been feeling Diarrhea and Fever In that case, you have Enteritis.\n",
            "Hi Doctor, I am having Diarrhea Ok, this means you might be having Enteritis.\n",
            "I have been feeling Fever This could probably be Enteritis.\n",
            "I have been feeling Vomiting and Stomach ache Ok, this means you might be having Enteritis.\n",
            "Hi Doctor, I am having Diarrhea and Stomach ache Ok, this means you might be having Enteritis.\n",
            "I have been feeling Vomiting I believe you are having Enteritis.\n",
            "I have been feeling Diarrhea and Fever This could probably be Enteritis.\n",
            "I have been feeling Stomach ache and Defecate This could probably be Enteritis.\n",
            "I have been feeling Diarrhea This could probably be Enteritis.\n",
            "Hi Doctor, I am having Vomiting In that case, you have Enteritis.\n",
            "I have been feeling Diarrhea and Pharynx discomfort This could probably be Enteritis.\n",
            "Recently, I am experiencing Vomiting and Diarrhea This could probably be Enteritis.\n",
            "I have Cough I believe you are having Enteritis.\n",
            "I have Vomiting and Diarrhea I believe you are having Enteritis.\n",
            "Recently, I am experiencing Pharynx discomfort and Dizzy I believe you are having Enteritis.\n",
            "Hi Doctor, I am having Increased stool frequency Ok, this means you might be having Enteritis.\n",
            "I have Diarrhea and Fever In that case, you have Enteritis.\n",
            "Recently, I am experiencing Pharynx discomfort In that case, you have Enteritis.\n",
            "I have been feeling Stomach ache and Diarrhea This could probably be Enteritis.\n",
            "Hi Doctor, I am having Decreased urine output This could probably be Enteritis.\n",
            "I have Diarrhea and Pharynx discomfort I believe you are having Enteritis.\n",
            "Hi Doctor, I am having Shortness of breath and Cough I believe you are having Asthma.\n",
            "I have been feeling Pharynx discomfort I believe you are having Asthma.\n",
            "I have Shortness of breath In that case, you have Asthma.\n",
            "Hi Doctor, I am having Cough In that case, you have Asthma.\n",
            "Recently, I am experiencing Cough Ok, this means you might be having Asthma.\n",
            "I have been feeling Cough This could probably be Asthma.\n",
            "Hi Doctor, I am having Difficulty breathing In that case, you have Asthma.\n",
            "I have been feeling Chest tightness Ok, this means you might be having Asthma.\n",
            "Hi Doctor, I am having Shortness of breath In that case, you have Asthma.\n",
            "Recently, I am experiencing Chest tightness I believe you are having Asthma.\n",
            "Hi Doctor, I am having Consciousness disorder Ok, this means you might be having Asthma.\n",
            "I have Runny nose and Pharynx discomfort I believe you are having Asthma.\n",
            "Recently, I am experiencing Shortness of breath and Chest tightness In that case, you have Asthma.\n",
            "Recently, I am experiencing Shortness of breath In that case, you have Asthma.\n",
            "Hi Doctor, I am having Pain behind the breastbone and Shortness of breath Ok, this means you might be having Asthma.\n",
            "Recently, I am experiencing Shortness of breath and Expectoration Ok, this means you might be having Asthma.\n",
            "Hi Doctor, I am having Shortness of breath and Fever This could probably be Asthma.\n",
            "I have been feeling Shortness of breath and Cough This could probably be Asthma.\n",
            "Recently, I am experiencing Chest tightness and Cough This could probably be Asthma.\n",
            "I have been feeling Chest tightness and Fatigue This could probably be Coronary heart disease.\n",
            "I have been feeling Palpitations and Poor sleep I believe you are having Coronary heart disease.\n",
            "Hi Doctor, I am having Chest tightness and Palpitations In that case, you have Coronary heart disease.\n",
            "I have Pain behind the breastbone Ok, this means you might be having Coronary heart disease.\n",
            "I have Bloating I believe you are having Coronary heart disease.\n",
            "Recently, I am experiencing Chest tightness and shortness of breath In that case, you have Coronary heart disease.\n",
            "Hi Doctor, I am having Sweating Ok, this means you might be having Coronary heart disease.\n",
            "I have Palpitations and Tinnitus In that case, you have Coronary heart disease.\n",
            "Recently, I am experiencing Syncope In that case, you have Coronary heart disease.\n",
            "Hi Doctor, I am having Fatigue and Chest tightness Ok, this means you might be having Coronary heart disease.\n",
            "Recently, I am experiencing Chest tightness and shortness of breath Ok, this means you might be having Coronary heart disease.\n",
            "Hi Doctor, I am having Chest tightness I believe you are having Coronary heart disease.\n",
            "Recently, I am experiencing Edema I believe you are having Coronary heart disease.\n",
            "I have Chest tightness and Palpitations I believe you are having Coronary heart disease.\n",
            "Hi Doctor, I am having Palpitations Ok, this means you might be having Coronary heart disease.\n",
            "I have Palpitations and Pain behind the breastbone Ok, this means you might be having Coronary heart disease.\n",
            "I have Chest tightness and Palpitations In that case, you have Coronary heart disease.\n",
            "I have Palpitations and Chest tightness and shortness of breath I believe you are having Coronary heart disease.\n",
            "I have Palpitations and Expectoration This could probably be Coronary heart disease.\n",
            "Recently, I am experiencing Pharynx discomfort and Cough This could probably be Pneumonia.\n",
            "Hi Doctor, I am having Chest tightness and shortness of breath This could probably be Pneumonia.\n",
            "Hi Doctor, I am having Shortness of breath In that case, you have Pneumonia.\n",
            "Hi Doctor, I am having Chest tightness and shortness of breath This could probably be Pneumonia.\n",
            "I have been feeling Expectoration This could probably be Pneumonia.\n",
            "Recently, I am experiencing Cough and Loss of appetite Ok, this means you might be having Pneumonia.\n",
            "Recently, I am experiencing Fever I believe you are having Pneumonia.\n",
            "Recently, I am experiencing Lumbago and Fever I believe you are having Pneumonia.\n",
            "Hi Doctor, I am having Fever Ok, this means you might be having Pneumonia.\n",
            "I have been feeling Cough and Stuffy nose This could probably be Pneumonia.\n",
            "Hi Doctor, I am having Shortness of breath and Pharynx discomfort In that case, you have Pneumonia.\n",
            "Hi Doctor, I am having Expectoration Ok, this means you might be having Pneumonia.\n",
            "Hi Doctor, I am having Fever and Cough This could probably be Pneumonia.\n",
            "I have been feeling Cough and Dizzy Ok, this means you might be having Pneumonia.\n",
            "Hi Doctor, I am having Pharynx discomfort Ok, this means you might be having Pneumonia.\n",
            "Recently, I am experiencing Expectoration Ok, this means you might be having Pneumonia.\n",
            "I have been feeling Expectoration I believe you are having Pneumonia.\n",
            "I have been feeling Stuffy nose and Diarrhea In that case, you have Pneumonia.\n",
            "I have Cough Ok, this means you might be having Pneumonia.\n",
            "I have Cough Ok, this means you might be having Pneumonia.\n",
            "I have Stuffy nose This could probably be Rhinitis.\n",
            "Hi Doctor, I am having Expectoration and Runny nose In that case, you have Rhinitis.\n",
            "I have Sneeze Ok, this means you might be having Rhinitis.\n",
            "I have been feeling Stuffy nose I believe you are having Rhinitis.\n",
            "Hi Doctor, I am having Pharynx discomfort This could probably be Rhinitis.\n",
            "I have Nasal congestion Ok, this means you might be having Rhinitis.\n",
            "I have Nasal mucosal congestion and Swelling of both nasal mucosa Ok, this means you might be having Rhinitis.\n",
            "Recently, I am experiencing Sneeze I believe you are having Rhinitis.\n",
            "I have Itchy eyes Ok, this means you might be having Rhinitis.\n",
            "I have Hoarse and Stuffy nose I believe you are having Rhinitis.\n",
            "Hi Doctor, I am having Nose bleeding Ok, this means you might be having Rhinitis.\n",
            "I have been feeling Headache and Stuffy nose I believe you are having Rhinitis.\n",
            "I have been feeling Stuffy nose and Dizzy In that case, you have Rhinitis.\n",
            "I have Sneeze Ok, this means you might be having Rhinitis.\n",
            "I have Pharynx discomfort In that case, you have Rhinitis.\n",
            "Hi Doctor, I am having Fever and Pain in front of neck In that case, you have Thyroiditis.\n",
            "I have been feeling Mild thyroid enlargement and Pharynx discomfort This could probably be Thyroiditis.\n",
            "I have Night sweats and Hard to swallow Ok, this means you might be having Thyroiditis.\n",
            "Recently, I am experiencing Fatigue This could probably be Thyroiditis.\n",
            "Recently, I am experiencing Fatigue This could probably be Thyroiditis.\n",
            "I have been feeling Sweating and Dizzy In that case, you have Thyroiditis.\n",
            "I have been feeling Difficulty breathing and Chest tightness and shortness of breath In that case, you have Thyroiditis.\n",
            "I have Pharynx discomfort I believe you are having Thyroiditis.\n",
            "Recently, I am experiencing Sleep disorder In that case, you have Thyroiditis.\n",
            "I have been feeling Pain in front of neck and Thirst I believe you are having Thyroiditis.\n",
            "Recently, I am experiencing Palpitations and Fever This could probably be Thyroiditis.\n",
            "I have Fatigue and Anorexia This could probably be Thyroiditis.\n",
            "I have Pain in front of neck This could probably be Thyroiditis.\n",
            "Hi Doctor, I am having Pharynx discomfort and Hoarse I believe you are having Thyroiditis.\n",
            "Hi Doctor, I am having Mild thyroid enlargement and Pain in front of neck In that case, you have Thyroiditis.\n",
            "I have Anorexia I believe you are having Thyroiditis.\n",
            "I have been feeling Chest tightness and Palpitations Ok, this means you might be having Thyroiditis.\n",
            "Recently, I am experiencing Pharynx discomfort and Pain in front of neck I believe you are having Thyroiditis.\n",
            "Recently, I am experiencing Pain in front of neck This could probably be Thyroiditis.\n",
            "I have Stomach ache Ok, this means you might be having Traumatic brain injury.\n",
            "Hi Doctor, I am having Dizzy and Head trauma pain Ok, this means you might be having Traumatic brain injury.\n",
            "Hi Doctor, I am having Dizzy and Nausea I believe you are having Traumatic brain injury.\n",
            "Hi Doctor, I am having Headache and dizziness In that case, you have Traumatic brain injury.\n",
            "I have Consciousness disorder I believe you are having Traumatic brain injury.\n",
            "Hi Doctor, I am having Headache I believe you are having Traumatic brain injury.\n",
            "Hi Doctor, I am having Fever In that case, you have Traumatic brain injury.\n",
            "I have been feeling Headache and Nausea This could probably be Traumatic brain injury.\n",
            "I have been feeling Head trauma pain I believe you are having Traumatic brain injury.\n",
            "Recently, I am experiencing Headache and dizziness In that case, you have Traumatic brain injury.\n",
            "I have Nausea and Head trauma pain Ok, this means you might be having Traumatic brain injury.\n",
            "I have Poor spirits Ok, this means you might be having Traumatic brain injury.\n",
            "Recently, I am experiencing Stomach ache In that case, you have Traumatic brain injury.\n",
            "I have been feeling Headache Ok, this means you might be having Traumatic brain injury.\n",
            "Hi Doctor, I am having Headache and Dizziness Ok, this means you might be having Traumatic brain injury.\n",
            "Recently, I am experiencing Dizziness and Head trauma pain Ok, this means you might be having Traumatic brain injury.\n",
            "Hi Doctor, I am having Syncope and Headache This could probably be Traumatic brain injury.\n",
            "Hi Doctor, I am having Dizzy and Headache In that case, you have Traumatic brain injury.\n",
            "Recently, I am experiencing Head trauma pain and Dizziness I believe you are having Traumatic brain injury.\n",
            "I have Rash and Itching This could probably be Dermatitis.\n",
            "I have Itching This could probably be Dermatitis.\n",
            "Recently, I am experiencing Itching Ok, this means you might be having Dermatitis.\n",
            "Recently, I am experiencing Cough and Itching Ok, this means you might be having Dermatitis.\n",
            "Recently, I am experiencing Rash Ok, this means you might be having Dermatitis.\n",
            "Recently, I am experiencing Papule and Congestion of skin and mucous membranes In that case, you have Dermatitis.\n",
            "Recently, I am experiencing Itching and Rash Ok, this means you might be having Dermatitis.\n",
            "Hi Doctor, I am having Itching Ok, this means you might be having Dermatitis.\n",
            "Hi Doctor, I am having Itching Ok, this means you might be having Dermatitis.\n",
            "Hi Doctor, I am having Rash and Itching Ok, this means you might be having Dermatitis.\n",
            "I have been feeling Itching Ok, this means you might be having Dermatitis.\n",
            "Recently, I am experiencing Congestion of skin and mucous membranes I believe you are having Dermatitis.\n",
            "I have been feeling Itching and Rash Ok, this means you might be having Dermatitis.\n",
            "Hi Doctor, I am having Itching and Rash Ok, this means you might be having Dermatitis.\n",
            "Hi Doctor, I am having Rash Ok, this means you might be having Dermatitis.\n",
            "I have been feeling Rash I believe you are having Dermatitis.\n",
            "Hi Doctor, I am having Itching and Rash This could probably be Dermatitis.\n",
            "I have Itching and Rash I believe you are having Dermatitis.\n",
            "I have Rash and Itching This could probably be Dermatitis.\n",
            "I have Rash and Itching This could probably be Dermatitis.\n",
            "I have been feeling Ear itching Ok, this means you might be having External otitis.\n",
            "Recently, I am experiencing Ear itching and Tinnitus This could probably be External otitis.\n",
            "I have Earache This could probably be External otitis.\n",
            "I have Hearing loss This could probably be External otitis.\n",
            "Hi Doctor, I am having Right earache and Hearing loss In that case, you have External otitis.\n",
            "Hi Doctor, I am having Earache In that case, you have External otitis.\n",
            "I have Tinnitus This could probably be External otitis.\n",
            "Recently, I am experiencing Earache and Hearing loss Ok, this means you might be having External otitis.\n",
            "Hi Doctor, I am having Earache This could probably be External otitis.\n",
            "I have been feeling Right earache I believe you are having External otitis.\n",
            "I have Hearing loss and Tinnitus I believe you are having External otitis.\n",
            "I have Hearing loss This could probably be External otitis.\n",
            "I have been feeling Ear itching In that case, you have External otitis.\n",
            "I have Earache I believe you are having External otitis.\n",
            "I have Earache I believe you are having External otitis.\n",
            "I have been feeling Itchy and uncomfortable eyes and Eye pain This could probably be Conjunctivitis.\n",
            "Recently, I am experiencing Jealous Ok, this means you might be having Conjunctivitis.\n",
            "I have Eye pain In that case, you have Conjunctivitis.\n",
            "Hi Doctor, I am having Sneeze and Itchy eyes I believe you are having Conjunctivitis.\n",
            "I have been feeling Photophobia This could probably be Conjunctivitis.\n",
            "I have been feeling Eye pain In that case, you have Conjunctivitis.\n",
            "Recently, I am experiencing Itchy and uncomfortable eyes and Jealous In that case, you have Conjunctivitis.\n",
            "I have Jealous This could probably be Conjunctivitis.\n",
            "I have Itchy and uncomfortable eyes and Jealous In that case, you have Conjunctivitis.\n",
            "Recently, I am experiencing Itchy eyes I believe you are having Conjunctivitis.\n",
            "Recently, I am experiencing Jealous I believe you are having Conjunctivitis.\n",
            "I have been feeling Jealous and Itchy and uncomfortable eyes This could probably be Conjunctivitis.\n",
            "I have been feeling Fever and Cry This could probably be Conjunctivitis.\n",
            "Hi Doctor, I am having Cry I believe you are having Conjunctivitis.\n",
            "Hi Doctor, I am having Cry and Jealous I believe you are having Conjunctivitis.\n",
            "Hi Doctor, I am having Eye pain and Itchy and uncomfortable eyes In that case, you have Conjunctivitis.\n",
            "Recently, I am experiencing Photophobia This could probably be Conjunctivitis.\n",
            "I have been feeling Jealous This could probably be Conjunctivitis.\n",
            "Recently, I am experiencing Itchy eyes and Itchy and uncomfortable eyes I believe you are having Conjunctivitis.\n",
            "Recently, I am experiencing Photophobia This could probably be Conjunctivitis.\n",
            "I have Itchy eyes and Cry Ok, this means you might be having Conjunctivitis.\n",
            "Recently, I am experiencing Fear of cold and Breast tenderness In that case, you have Mastitis.\n",
            "I have been feeling Cough This could probably be Mastitis.\n",
            "Hi Doctor, I am having Headache Ok, this means you might be having Mastitis.\n",
            "Hi Doctor, I am having Fever and Dizziness I believe you are having Mastitis.\n",
            "I have been feeling Fatigue and Fever This could probably be Mastitis.\n",
            "I have Thin white moss and Fever I believe you are having Mastitis.\n",
            "I have Headache Ok, this means you might be having Mastitis.\n",
            "Recently, I am experiencing Headache In that case, you have Mastitis.\n",
            "I have Breast tenderness In that case, you have Mastitis.\n",
            "Hi Doctor, I am having Breast tenderness This could probably be Mastitis.\n",
            "Recently, I am experiencing Chills and fever and Breast tenderness Ok, this means you might be having Mastitis.\n",
            "Hi Doctor, I am having Fever and Headache In that case, you have Mastitis.\n",
            "I have been feeling Body aches I believe you are having Mastitis.\n",
            "I have Fever and Breast tenderness Ok, this means you might be having Mastitis.\n",
            "I have been feeling Fever and Stomach ache Ok, this means you might be having Mastitis.\n",
            "I have been feeling Breast tenderness This could probably be Mastitis.\n",
            "I have been feeling Breast tenderness and Headache In that case, you have Mastitis.\n"
          ]
        }
      ]
    },
    {
      "cell_type": "code",
      "source": [],
      "metadata": {
        "id": "ZmyC3LNBbrfk"
      },
      "execution_count": null,
      "outputs": []
    },
    {
      "cell_type": "code",
      "source": [],
      "metadata": {
        "id": "x1fPZA9vTEx7"
      },
      "execution_count": null,
      "outputs": []
    }
  ]
}